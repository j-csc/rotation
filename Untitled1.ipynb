{
 "cells": [
  {
   "cell_type": "code",
   "execution_count": 3,
   "metadata": {},
   "outputs": [],
   "source": [
    "%matplotlib inline\n",
    "import sys,os,time\n",
    "\n",
    "import numpy as np\n",
    "import pandas as pd\n",
    "import matplotlib.pyplot as plt\n",
    "\n",
    "import scipy.ndimage\n",
    "from skimage.io import imread, imsave\n",
    "from skimage.transform import rotate\n",
    "\n",
    "import torch\n",
    "from torch.utils.data import Dataset, DataLoader"
   ]
  },
  {
   "cell_type": "code",
   "execution_count": 4,
   "metadata": {},
   "outputs": [],
   "source": [
    "df = pd.read_csv(\"train_df.csv\", index_col=0, )"
   ]
  },
  {
   "cell_type": "code",
   "execution_count": 6,
   "metadata": {},
   "outputs": [],
   "source": [
    "NUM_WORKERS = 8\n",
    "NUM_CHIPS_PER_TILE = 8\n",
    "CHIP_SIZE = 256\n",
    "LARGE_CHIP_SIZE = int(np.ceil(CHIP_SIZE * np.sqrt(2)))\n",
    "CROP_POINT = (LARGE_CHIP_SIZE - CHIP_SIZE) // 2\n",
    "\n",
    "PADDING = 32\n",
    "assert PADDING % 2 == 0\n",
    "HALF_PADDING = PADDING//2\n",
    "CHIP_STRIDE = CHIP_SIZE - PADDING"
   ]
  },
  {
   "cell_type": "code",
   "execution_count": 7,
   "metadata": {},
   "outputs": [
    {
     "data": {
      "text/plain": [
       "363"
      ]
     },
     "execution_count": 7,
     "metadata": {},
     "output_type": "execute_result"
    }
   ],
   "source": [
    "LARGE_CHIP_SIZE"
   ]
  },
  {
   "cell_type": "code",
   "execution_count": 8,
   "metadata": {},
   "outputs": [
    {
     "data": {
      "text/plain": [
       "(155487, 1)"
      ]
     },
     "execution_count": 8,
     "metadata": {},
     "output_type": "execute_result"
    }
   ],
   "source": [
    "df.shape"
   ]
  },
  {
   "cell_type": "code",
   "execution_count": 9,
   "metadata": {},
   "outputs": [],
   "source": [
    "data_root_dir = \"./\""
   ]
  },
  {
   "cell_type": "code",
   "execution_count": 10,
   "metadata": {},
   "outputs": [],
   "source": [
    "image_fns = [\n",
    "    os.path.join(data_root_dir, \"train_v2/\", fn)\n",
    "    for fn in df[\"0\"].values\n",
    "]\n",
    "\n",
    "mask_fns = [\n",
    "    os.path.join(data_root_dir, \"train_v2_masks/\", fn.replace(\".jpg\", \".png\"))\n",
    "    for fn in df[\"0\"].values\n",
    "]\n",
    "\n",
    "mask_id_fns = [\n",
    "    os.path.join(data_root_dir, \"train_v2_mask_ids/\", fn.replace(\".jpg\", \".png\"))\n",
    "    for fn in df[\"0\"].values\n",
    "]"
   ]
  },
  {
   "cell_type": "code",
   "execution_count": 56,
   "metadata": {},
   "outputs": [
    {
     "data": {
      "text/plain": [
       "131961"
      ]
     },
     "execution_count": 56,
     "metadata": {},
     "output_type": "execute_result"
    }
   ],
   "source": [
    "image_fns.index(\"./train_v2/000194a2d.jpg\")"
   ]
  },
  {
   "cell_type": "code",
   "execution_count": 60,
   "metadata": {},
   "outputs": [
    {
     "data": {
      "text/plain": [
       "'./train_v2/2433a1622.jpg'"
      ]
     },
     "execution_count": 60,
     "metadata": {},
     "output_type": "execute_result"
    }
   ],
   "source": [
    "image_fns[0]"
   ]
  },
  {
   "cell_type": "code",
   "execution_count": 76,
   "metadata": {},
   "outputs": [],
   "source": [
    "class AirbusShipDataset(Dataset):\n",
    "\n",
    "    def __init__(self, fn, data_root_dir, transform=None):\n",
    "        df = pd.read_csv(fn)\n",
    "        \n",
    "        self.image_fns = [\n",
    "            os.path.join(data_root_dir, \"train_v2/\", fn)\n",
    "            for fn in df[\"0\"].values\n",
    "        ]\n",
    "\n",
    "        self.mask_fns = [\n",
    "            os.path.join(data_root_dir, \"train_v2_masks/\", fn.replace(\".jpg\", \".png\"))\n",
    "            for fn in df[\"0\"].values\n",
    "        ]\n",
    "\n",
    "        self.mask_id_fns = [\n",
    "            os.path.join(data_root_dir, \"train_v2_mask_ids/\", fn.replace(\".jpg\", \".png\"))\n",
    "            for fn in df[\"0\"].values\n",
    "        ]\n",
    "        \n",
    "        self.mask_exists = [\n",
    "            os.path.exists(fn)\n",
    "            for fn in self.mask_fns\n",
    "        ]\n",
    "        \n",
    "        self.transform = transform\n",
    "\n",
    "    def __len__(self):\n",
    "        return len(self.image_fns)\n",
    "\n",
    "    def __getitem__(self, idx):\n",
    "\n",
    "        img_fn, mask_fn, mask_id_fn = self.image_fns[idx], self.mask_fns[idx], self.mask_id_fns[idx]\n",
    "        fn = os.path.basename(img_fn)\n",
    "        \n",
    "        \n",
    "        image = imread(img_fn)\n",
    "        if self.mask_exists[idx]:\n",
    "            mask = imread(mask_fn)\n",
    "            mask_id = imread(mask_id_fn)\n",
    "        else:\n",
    "            mask = np.zeros((768, 768), dtype=np.uint8)\n",
    "            mask_id = np.zeros((768, 768), dtype=np.uint8)\n",
    "        \n",
    "        #if self.transform:\n",
    "        #    sample = self.transform(sample)\n",
    "\n",
    "        return (image, mask, mask_id, fn)"
   ]
  },
  {
   "cell_type": "code",
   "execution_count": 129,
   "metadata": {},
   "outputs": [],
   "source": [
    "def joint_transform(img, labels, rotation_augmentation=True):\n",
    "    if rotation_augmentation:\n",
    "        rotate_amount = np.random.randint(0,360)\n",
    "        img = rotate(img, rotate_amount)\n",
    "        labels = rotate(labels, rotate_amount, order=0)\n",
    "        labels = (labels * 255).astype(np.uint8)\n",
    "\n",
    "        img = img[CROP_POINT:CROP_POINT+CHIP_SIZE, CROP_POINT:CROP_POINT+CHIP_SIZE]\n",
    "        labels = labels[CROP_POINT:CROP_POINT+CHIP_SIZE, CROP_POINT:CROP_POINT+CHIP_SIZE]\n",
    "    else:\n",
    "        img = img / 255.0\n",
    "\n",
    "        img = img[CROP_POINT:CROP_POINT+CHIP_SIZE, CROP_POINT:CROP_POINT+CHIP_SIZE]\n",
    "        labels = labels[CROP_POINT:CROP_POINT+CHIP_SIZE, CROP_POINT:CROP_POINT+CHIP_SIZE]\n",
    "\n",
    "    img = np.rollaxis(img, 2, 0).astype(np.float32)\n",
    "    img = torch.from_numpy(img)\n",
    "    labels = labels.astype(np.int64)\n",
    "    labels = torch.from_numpy(labels)\n",
    "\n",
    "    return img, labels"
   ]
  },
  {
   "cell_type": "code",
   "execution_count": 103,
   "metadata": {},
   "outputs": [],
   "source": [
    "train_dataset = AirbusShipDataset(\"train_df.csv\", \"./\")"
   ]
  },
  {
   "cell_type": "code",
   "execution_count": 104,
   "metadata": {},
   "outputs": [],
   "source": [
    "(image, mask, mask_id, fn) = train_dataset[131961]"
   ]
  },
  {
   "cell_type": "code",
   "execution_count": 105,
   "metadata": {},
   "outputs": [],
   "source": [
    "image = image[:LARGE_CHIP_SIZE, :LARGE_CHIP_SIZE]\n",
    "mask = mask[:LARGE_CHIP_SIZE, :LARGE_CHIP_SIZE]\n",
    "mask_id = mask_id[:LARGE_CHIP_SIZE, :LARGE_CHIP_SIZE]"
   ]
  },
  {
   "cell_type": "code",
   "execution_count": 123,
   "metadata": {},
   "outputs": [],
   "source": [
    "img, labels = joint_transform(image, mask, True)"
   ]
  },
  {
   "cell_type": "code",
   "execution_count": 124,
   "metadata": {},
   "outputs": [
    {
     "data": {
      "text/plain": [
       "(torch.float32, torch.Size([256, 256, 3]))"
      ]
     },
     "execution_count": 124,
     "metadata": {},
     "output_type": "execute_result"
    }
   ],
   "source": [
    "img.dtype, img.shape"
   ]
  },
  {
   "cell_type": "code",
   "execution_count": 125,
   "metadata": {},
   "outputs": [
    {
     "data": {
      "image/png": "[encoded data removed]",
      "text/plain": [
       "<Figure size 432x288 with 1 Axes>"
      ]
     },
     "metadata": {
      "needs_background": "light"
     },
     "output_type": "display_data"
    },
    {
     "data": {
      "image/png": "[encoded data removed]",
      "text/plain": [
       "<Figure size 432x288 with 1 Axes>"
      ]
     },
     "metadata": {
      "needs_background": "light"
     },
     "output_type": "display_data"
    }
   ],
   "source": [
    "plt.figure()\n",
    "plt.imshow(img)\n",
    "plt.show()\n",
    "plt.close()\n",
    "\n",
    "plt.figure()\n",
    "plt.imshow(labels)\n",
    "plt.show()\n",
    "plt.close()"
   ]
  },
  {
   "cell_type": "code",
   "execution_count": null,
   "metadata": {},
   "outputs": [],
   "source": [
    "plt.figure()\n",
    "plt.imshow(img)\n",
    "plt.show()\n",
    "plt.close()"
   ]
  },
  {
   "cell_type": "code",
   "execution_count": 92,
   "metadata": {},
   "outputs": [
    {
     "data": {
      "image/png": "[encoded data removed]",
      "text/plain": [
       "<Figure size 432x288 with 1 Axes>"
      ]
     },
     "metadata": {
      "needs_background": "light"
     },
     "output_type": "display_data"
    }
   ],
   "source": [
    "plt.figure()\n",
    "plt.imshow(mask[:LARGE_CHIP_SIZE, :LARGE_CHIP_SIZE])\n",
    "plt.show()\n",
    "plt.close()"
   ]
  },
  {
   "cell_type": "code",
   "execution_count": 72,
   "metadata": {
    "scrolled": true
   },
   "outputs": [
    {
     "data": {
      "image/png": "[encoded data removed]",
      "text/plain": [
       "<Figure size 432x288 with 1 Axes>"
      ]
     },
     "metadata": {
      "needs_background": "light"
     },
     "output_type": "display_data"
    }
   ],
   "source": [
    "plt.figure()\n",
    "plt.imshow(mask_id)\n",
    "plt.show()\n",
    "plt.close()"
   ]
  },
  {
   "cell_type": "code",
   "execution_count": 73,
   "metadata": {},
   "outputs": [],
   "source": [
    "import joblib"
   ]
  },
  {
   "cell_type": "code",
   "execution_count": 81,
   "metadata": {},
   "outputs": [],
   "source": [
    "ship_areas_by_fn = joblib.load(\"ship_areas_by_fn.p\")"
   ]
  },
  {
   "cell_type": "code",
   "execution_count": 82,
   "metadata": {},
   "outputs": [
    {
     "data": {
      "text/plain": [
       "{1: 480, 2: 648, 3: 177, 4: 148, 5: 7}"
      ]
     },
     "execution_count": 82,
     "metadata": {},
     "output_type": "execute_result"
    }
   ],
   "source": [
    "ship_areas_by_fn[fn]"
   ]
  },
  {
   "cell_type": "code",
   "execution_count": 86,
   "metadata": {},
   "outputs": [
    {
     "data": {
      "image/png": "[encoded data removed]",
      "text/plain": [
       "<Figure size 432x288 with 1 Axes>"
      ]
     },
     "metadata": {
      "needs_background": "light"
     },
     "output_type": "display_data"
    }
   ],
   "source": [
    "plt.figure()\n",
    "plt.imshow(mask_id==2)\n",
    "plt.show()\n",
    "plt.close()"
   ]
  },
  {
   "cell_type": "code",
   "execution_count": null,
   "metadata": {},
   "outputs": [],
   "source": []
  }
 ],
 "metadata": {
  "kernelspec": {
   "display_name": "ai4e",
   "language": "python",
   "name": "ai4e"
  },
  "language_info": {
   "codemirror_mode": {
    "name": "ipython",
    "version": 3
   },
   "file_extension": ".py",
   "mimetype": "text/x-python",
   "name": "python",
   "nbconvert_exporter": "python",
   "pygments_lexer": "ipython3",
   "version": "3.8.8"
  }
 },
 "nbformat": 4,
 "nbformat_minor": 5
}
