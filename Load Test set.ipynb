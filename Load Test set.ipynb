{
 "cells": [
  {
   "cell_type": "code",
   "execution_count": 1,
   "id": "3df4717c",
   "metadata": {},
   "outputs": [],
   "source": [
    "import sys,os,time\n",
    "\n",
    "import numpy as np\n",
    "import pandas as pd\n",
    "import matplotlib.pyplot as plt\n",
    "\n",
    "import scipy.ndimage\n",
    "from skimage.io import imread, imsave\n",
    "from skimage.transform import rotate\n",
    "\n",
    "import torch\n",
    "import torch.nn as nn\n",
    "import torch.nn.functional as F\n",
    "from torch.utils.data import Dataset, DataLoader, IterableDataset\n",
    "\n",
    "from utils import LARGE_CHIP_SIZE, CHIP_SIZE,CROP_POINT, NUM_WORKERS,MixedLoss, joint_transform, mixed_loss, get_mask\n",
    "from tqdm import tqdm\n",
    "\n",
    "from dataloader import AirbusShipPatchDataset, AirbusShipDataset\n",
    "from streaming_dataloader import StreamingShipDataset, StreamingShipValTestDataset\n",
    "import joblib\n",
    "\n",
    "import rasterio\n",
    "import fiona\n",
    "import shapely.geometry\n",
    "import cv2\n",
    "import rasterio.features\n",
    "from PIL import Image\n",
    "import segmentation_models_pytorch as smp\n",
    "import glob"
   ]
  },
  {
   "cell_type": "code",
   "execution_count": 2,
   "id": "2de76d0e",
   "metadata": {},
   "outputs": [],
   "source": [
    "# helper function for data visualization\n",
    "def visualize(**images):\n",
    "    \"\"\"PLot images in one row.\"\"\"\n",
    "    n = len(images)\n",
    "    plt.figure(figsize=(16, 5))\n",
    "    for i, (name, image) in enumerate(images.items()):\n",
    "        plt.subplot(1, n, i + 1)\n",
    "        plt.xticks([])\n",
    "        plt.yticks([])\n",
    "        plt.title(' '.join(name.split('_')).title())\n",
    "        plt.imshow(image)\n",
    "    plt.show()"
   ]
  },
  {
   "cell_type": "code",
   "execution_count": 3,
   "id": "eb32e195",
   "metadata": {},
   "outputs": [],
   "source": [
    "ENCODER = 'resnet34'\n",
    "ENCODER_WEIGHTS = 'imagenet'\n",
    "\n",
    "preprocessing_fn = smp.encoders.get_preprocessing_fn(ENCODER, ENCODER_WEIGHTS)\n",
    "# preprocessing_fn = None\n",
    "\n",
    "# #  Test Loader\n",
    "\n",
    "# streaming_test_dataset = StreamingShipValTestDataset(\"./data/test_df.csv\", \"./data/train_v2/\", \n",
    "#     large_chip_size=LARGE_CHIP_SIZE, chip_size=CHIP_SIZE, transform=joint_transform, preprocessing_fn=preprocessing_fn,\n",
    "#     rotation_augmentation=False, only_ships=True)\n",
    "\n",
    "# streaming_test_aug_dataset = StreamingShipValTestDataset(\"./data/test_df.csv\", \"./data/train_v2/\", \n",
    "#     large_chip_size=LARGE_CHIP_SIZE, chip_size=CHIP_SIZE, transform=joint_transform, preprocessing_fn=preprocessing_fn,\n",
    "#     rotation_augmentation=True, only_ships=True)\n",
    "\n",
    "# test_loader = DataLoader(dataset=streaming_test_dataset, batch_size = 1, num_workers=1)\n",
    "\n",
    "# test_aug_loader = DataLoader(dataset=streaming_test_aug_dataset, batch_size = 1, num_workers=1)"
   ]
  },
  {
   "cell_type": "code",
   "execution_count": 4,
   "id": "05fbd82f",
   "metadata": {},
   "outputs": [],
   "source": [
    "device = torch.device(\"cuda:%d\" % 0)\n",
    "aug_model = torch.load('./best_model_aug.pth')\n",
    "aug_model = aug_model.to(device)\n",
    "\n",
    "non_aug_model = torch.load('./best_model_non_aug.pth')\n",
    "non_aug_model = non_aug_model.to(device)"
   ]
  },
  {
   "cell_type": "code",
   "execution_count": 5,
   "id": "d5bcc8a5",
   "metadata": {},
   "outputs": [],
   "source": [
    "np_aug_model = torch.load('./best_model_aug_np.pth')\n",
    "np_aug_model = np_aug_model.to(device)"
   ]
  },
  {
   "cell_type": "code",
   "execution_count": 6,
   "id": "816ed339",
   "metadata": {
    "scrolled": true
   },
   "outputs": [],
   "source": [
    "aug_model.eval()\n",
    "non_aug_model.eval()\n",
    "np_aug_model.eval()\n",
    "\n",
    "loss = MixedLoss(10.0,2.0)\n",
    "loss.__name__ = \"MixedLoss\"\n",
    "\n",
    "metrics = [\n",
    "    smp.utils.metrics.IoU(threshold=0.5),\n",
    "]"
   ]
  },
  {
   "cell_type": "code",
   "execution_count": 7,
   "id": "d4ded3a8",
   "metadata": {},
   "outputs": [],
   "source": [
    "class ShipTestDataset(Dataset):\n",
    "\n",
    "    def __init__(self, file_path, transform=None):\n",
    "        self.file_path = file_path\n",
    "        self.image_fns = glob.glob(self.file_path + \"img/*\")\n",
    "        self.transform = transform\n",
    "\n",
    "    def __len__(self):\n",
    "        return len(self.image_fns)\n",
    "\n",
    "    def __getitem__(self, idx):\n",
    "        \n",
    "        fn = self.image_fns[idx].split('/')[-1]\n",
    "        \n",
    "        mask_fn = os.path.join(self.file_path, \"mask\",fn.replace(\"jpg\", \"png\"))\n",
    "        \n",
    "        # Read image\n",
    "        img = imread(self.image_fns[idx])\n",
    "        mask = imread(mask_fn)\n",
    "        \n",
    "        if self.transform != None:\n",
    "            img = self.transform(img)\n",
    "        else:\n",
    "            img = img / 255.0\n",
    "            \n",
    "        p_img = np.rollaxis(img, 2, 0).astype(np.float32)\n",
    "        p_img = torch.from_numpy(p_img).squeeze()\n",
    "\n",
    "        p_mask = mask.astype(np.int64)\n",
    "        p_mask = torch.from_numpy(p_mask).unsqueeze(0)\n",
    "        \n",
    "        return p_img, p_mask"
   ]
  },
  {
   "cell_type": "code",
   "execution_count": 20,
   "id": "b0c25c44",
   "metadata": {},
   "outputs": [],
   "source": [
    "test_epoch_aug_Unet = smp.utils.train.ValidEpoch(\n",
    "    aug_model, \n",
    "    loss=loss, \n",
    "    metrics=metrics, \n",
    "    device=device,\n",
    "    verbose=True,\n",
    ")\n",
    "\n",
    "test_epoch_non_aug_Unet = smp.utils.train.ValidEpoch(\n",
    "    non_aug_model, \n",
    "    loss=loss, \n",
    "    metrics=metrics, \n",
    "    device=device,\n",
    "    verbose=True,\n",
    ")\n",
    "\n",
    "test_epoch_aug_np_Unet = smp.utils.train.ValidEpoch(\n",
    "    np_aug_model, \n",
    "    loss=loss, \n",
    "    metrics=metrics, \n",
    "    device=device,\n",
    "    verbose=True,\n",
    ")"
   ]
  },
  {
   "cell_type": "code",
   "execution_count": 34,
   "id": "4d957907",
   "metadata": {
    "scrolled": true
   },
   "outputs": [
    {
     "name": "stdout",
     "output_type": "stream",
     "text": [
      "valid:  21%|██        | 145899/687960 [28:57<1:47:34, 83.98it/s, MixedLoss - 10.64, iou_score - 0.5149] \n"
     ]
    },
    {
     "ename": "KeyboardInterrupt",
     "evalue": "",
     "output_type": "error",
     "traceback": [
      "\u001b[0;31m---------------------------------------------------------------------------\u001b[0m",
      "\u001b[0;31mKeyboardInterrupt\u001b[0m                         Traceback (most recent call last)",
      "\u001b[0;32m<ipython-input-34-2ddc92efad2b>\u001b[0m in \u001b[0;36m<module>\u001b[0;34m\u001b[0m\n\u001b[0;32m----> 1\u001b[0;31m \u001b[0mtest_epoch_aug_Unet\u001b[0m\u001b[0;34m.\u001b[0m\u001b[0mrun\u001b[0m\u001b[0;34m(\u001b[0m\u001b[0maug_test_loader_pl\u001b[0m\u001b[0;34m)\u001b[0m\u001b[0;34m\u001b[0m\u001b[0;34m\u001b[0m\u001b[0m\n\u001b[0m",
      "\u001b[0;32m~/anaconda3/envs/ai4e/lib/python3.8/site-packages/segmentation_models_pytorch/utils/train.py\u001b[0m in \u001b[0;36mrun\u001b[0;34m(self, dataloader)\u001b[0m\n\u001b[1;32m     45\u001b[0m             \u001b[0;32mfor\u001b[0m \u001b[0mx\u001b[0m\u001b[0;34m,\u001b[0m \u001b[0my\u001b[0m \u001b[0;32min\u001b[0m \u001b[0miterator\u001b[0m\u001b[0;34m:\u001b[0m\u001b[0;34m\u001b[0m\u001b[0;34m\u001b[0m\u001b[0m\n\u001b[1;32m     46\u001b[0m                 \u001b[0mx\u001b[0m\u001b[0;34m,\u001b[0m \u001b[0my\u001b[0m \u001b[0;34m=\u001b[0m \u001b[0mx\u001b[0m\u001b[0;34m.\u001b[0m\u001b[0mto\u001b[0m\u001b[0;34m(\u001b[0m\u001b[0mself\u001b[0m\u001b[0;34m.\u001b[0m\u001b[0mdevice\u001b[0m\u001b[0;34m)\u001b[0m\u001b[0;34m,\u001b[0m \u001b[0my\u001b[0m\u001b[0;34m.\u001b[0m\u001b[0mto\u001b[0m\u001b[0;34m(\u001b[0m\u001b[0mself\u001b[0m\u001b[0;34m.\u001b[0m\u001b[0mdevice\u001b[0m\u001b[0;34m)\u001b[0m\u001b[0;34m\u001b[0m\u001b[0;34m\u001b[0m\u001b[0m\n\u001b[0;32m---> 47\u001b[0;31m                 \u001b[0mloss\u001b[0m\u001b[0;34m,\u001b[0m \u001b[0my_pred\u001b[0m \u001b[0;34m=\u001b[0m \u001b[0mself\u001b[0m\u001b[0;34m.\u001b[0m\u001b[0mbatch_update\u001b[0m\u001b[0;34m(\u001b[0m\u001b[0mx\u001b[0m\u001b[0;34m,\u001b[0m \u001b[0my\u001b[0m\u001b[0;34m)\u001b[0m\u001b[0;34m\u001b[0m\u001b[0;34m\u001b[0m\u001b[0m\n\u001b[0m\u001b[1;32m     48\u001b[0m \u001b[0;34m\u001b[0m\u001b[0m\n\u001b[1;32m     49\u001b[0m                 \u001b[0;31m# update loss logs\u001b[0m\u001b[0;34m\u001b[0m\u001b[0;34m\u001b[0m\u001b[0;34m\u001b[0m\u001b[0m\n",
      "\u001b[0;32m~/anaconda3/envs/ai4e/lib/python3.8/site-packages/segmentation_models_pytorch/utils/train.py\u001b[0m in \u001b[0;36mbatch_update\u001b[0;34m(self, x, y)\u001b[0m\n\u001b[1;32m    109\u001b[0m     \u001b[0;32mdef\u001b[0m \u001b[0mbatch_update\u001b[0m\u001b[0;34m(\u001b[0m\u001b[0mself\u001b[0m\u001b[0;34m,\u001b[0m \u001b[0mx\u001b[0m\u001b[0;34m,\u001b[0m \u001b[0my\u001b[0m\u001b[0;34m)\u001b[0m\u001b[0;34m:\u001b[0m\u001b[0;34m\u001b[0m\u001b[0;34m\u001b[0m\u001b[0m\n\u001b[1;32m    110\u001b[0m         \u001b[0;32mwith\u001b[0m \u001b[0mtorch\u001b[0m\u001b[0;34m.\u001b[0m\u001b[0mno_grad\u001b[0m\u001b[0;34m(\u001b[0m\u001b[0;34m)\u001b[0m\u001b[0;34m:\u001b[0m\u001b[0;34m\u001b[0m\u001b[0;34m\u001b[0m\u001b[0m\n\u001b[0;32m--> 111\u001b[0;31m             \u001b[0mprediction\u001b[0m \u001b[0;34m=\u001b[0m \u001b[0mself\u001b[0m\u001b[0;34m.\u001b[0m\u001b[0mmodel\u001b[0m\u001b[0;34m.\u001b[0m\u001b[0mforward\u001b[0m\u001b[0;34m(\u001b[0m\u001b[0mx\u001b[0m\u001b[0;34m)\u001b[0m\u001b[0;34m\u001b[0m\u001b[0;34m\u001b[0m\u001b[0m\n\u001b[0m\u001b[1;32m    112\u001b[0m             \u001b[0mloss\u001b[0m \u001b[0;34m=\u001b[0m \u001b[0mself\u001b[0m\u001b[0;34m.\u001b[0m\u001b[0mloss\u001b[0m\u001b[0;34m(\u001b[0m\u001b[0mprediction\u001b[0m\u001b[0;34m,\u001b[0m \u001b[0my\u001b[0m\u001b[0;34m)\u001b[0m\u001b[0;34m\u001b[0m\u001b[0;34m\u001b[0m\u001b[0m\n\u001b[1;32m    113\u001b[0m         \u001b[0;32mreturn\u001b[0m \u001b[0mloss\u001b[0m\u001b[0;34m,\u001b[0m \u001b[0mprediction\u001b[0m\u001b[0;34m\u001b[0m\u001b[0;34m\u001b[0m\u001b[0m\n",
      "\u001b[0;32m~/anaconda3/envs/ai4e/lib/python3.8/site-packages/segmentation_models_pytorch/base/model.py\u001b[0m in \u001b[0;36mforward\u001b[0;34m(self, x)\u001b[0m\n\u001b[1;32m     13\u001b[0m     \u001b[0;32mdef\u001b[0m \u001b[0mforward\u001b[0m\u001b[0;34m(\u001b[0m\u001b[0mself\u001b[0m\u001b[0;34m,\u001b[0m \u001b[0mx\u001b[0m\u001b[0;34m)\u001b[0m\u001b[0;34m:\u001b[0m\u001b[0;34m\u001b[0m\u001b[0;34m\u001b[0m\u001b[0m\n\u001b[1;32m     14\u001b[0m         \u001b[0;34m\"\"\"Sequentially pass `x` trough model`s encoder, decoder and heads\"\"\"\u001b[0m\u001b[0;34m\u001b[0m\u001b[0;34m\u001b[0m\u001b[0m\n\u001b[0;32m---> 15\u001b[0;31m         \u001b[0mfeatures\u001b[0m \u001b[0;34m=\u001b[0m \u001b[0mself\u001b[0m\u001b[0;34m.\u001b[0m\u001b[0mencoder\u001b[0m\u001b[0;34m(\u001b[0m\u001b[0mx\u001b[0m\u001b[0;34m)\u001b[0m\u001b[0;34m\u001b[0m\u001b[0;34m\u001b[0m\u001b[0m\n\u001b[0m\u001b[1;32m     16\u001b[0m         \u001b[0mdecoder_output\u001b[0m \u001b[0;34m=\u001b[0m \u001b[0mself\u001b[0m\u001b[0;34m.\u001b[0m\u001b[0mdecoder\u001b[0m\u001b[0;34m(\u001b[0m\u001b[0;34m*\u001b[0m\u001b[0mfeatures\u001b[0m\u001b[0;34m)\u001b[0m\u001b[0;34m\u001b[0m\u001b[0;34m\u001b[0m\u001b[0m\n\u001b[1;32m     17\u001b[0m \u001b[0;34m\u001b[0m\u001b[0m\n",
      "\u001b[0;32m~/anaconda3/envs/ai4e/lib/python3.8/site-packages/torch/nn/modules/module.py\u001b[0m in \u001b[0;36m_call_impl\u001b[0;34m(self, *input, **kwargs)\u001b[0m\n\u001b[1;32m    887\u001b[0m             \u001b[0mresult\u001b[0m \u001b[0;34m=\u001b[0m \u001b[0mself\u001b[0m\u001b[0;34m.\u001b[0m\u001b[0m_slow_forward\u001b[0m\u001b[0;34m(\u001b[0m\u001b[0;34m*\u001b[0m\u001b[0minput\u001b[0m\u001b[0;34m,\u001b[0m \u001b[0;34m**\u001b[0m\u001b[0mkwargs\u001b[0m\u001b[0;34m)\u001b[0m\u001b[0;34m\u001b[0m\u001b[0;34m\u001b[0m\u001b[0m\n\u001b[1;32m    888\u001b[0m         \u001b[0;32melse\u001b[0m\u001b[0;34m:\u001b[0m\u001b[0;34m\u001b[0m\u001b[0;34m\u001b[0m\u001b[0m\n\u001b[0;32m--> 889\u001b[0;31m             \u001b[0mresult\u001b[0m \u001b[0;34m=\u001b[0m \u001b[0mself\u001b[0m\u001b[0;34m.\u001b[0m\u001b[0mforward\u001b[0m\u001b[0;34m(\u001b[0m\u001b[0;34m*\u001b[0m\u001b[0minput\u001b[0m\u001b[0;34m,\u001b[0m \u001b[0;34m**\u001b[0m\u001b[0mkwargs\u001b[0m\u001b[0;34m)\u001b[0m\u001b[0;34m\u001b[0m\u001b[0;34m\u001b[0m\u001b[0m\n\u001b[0m\u001b[1;32m    890\u001b[0m         for hook in itertools.chain(\n\u001b[1;32m    891\u001b[0m                 \u001b[0m_global_forward_hooks\u001b[0m\u001b[0;34m.\u001b[0m\u001b[0mvalues\u001b[0m\u001b[0;34m(\u001b[0m\u001b[0;34m)\u001b[0m\u001b[0;34m,\u001b[0m\u001b[0;34m\u001b[0m\u001b[0;34m\u001b[0m\u001b[0m\n",
      "\u001b[0;32m~/anaconda3/envs/ai4e/lib/python3.8/site-packages/segmentation_models_pytorch/encoders/resnet.py\u001b[0m in \u001b[0;36mforward\u001b[0;34m(self, x)\u001b[0m\n\u001b[1;32m     60\u001b[0m         \u001b[0mfeatures\u001b[0m \u001b[0;34m=\u001b[0m \u001b[0;34m[\u001b[0m\u001b[0;34m]\u001b[0m\u001b[0;34m\u001b[0m\u001b[0;34m\u001b[0m\u001b[0m\n\u001b[1;32m     61\u001b[0m         \u001b[0;32mfor\u001b[0m \u001b[0mi\u001b[0m \u001b[0;32min\u001b[0m \u001b[0mrange\u001b[0m\u001b[0;34m(\u001b[0m\u001b[0mself\u001b[0m\u001b[0;34m.\u001b[0m\u001b[0m_depth\u001b[0m \u001b[0;34m+\u001b[0m \u001b[0;36m1\u001b[0m\u001b[0;34m)\u001b[0m\u001b[0;34m:\u001b[0m\u001b[0;34m\u001b[0m\u001b[0;34m\u001b[0m\u001b[0m\n\u001b[0;32m---> 62\u001b[0;31m             \u001b[0mx\u001b[0m \u001b[0;34m=\u001b[0m \u001b[0mstages\u001b[0m\u001b[0;34m[\u001b[0m\u001b[0mi\u001b[0m\u001b[0;34m]\u001b[0m\u001b[0;34m(\u001b[0m\u001b[0mx\u001b[0m\u001b[0;34m)\u001b[0m\u001b[0;34m\u001b[0m\u001b[0;34m\u001b[0m\u001b[0m\n\u001b[0m\u001b[1;32m     63\u001b[0m             \u001b[0mfeatures\u001b[0m\u001b[0;34m.\u001b[0m\u001b[0mappend\u001b[0m\u001b[0;34m(\u001b[0m\u001b[0mx\u001b[0m\u001b[0;34m)\u001b[0m\u001b[0;34m\u001b[0m\u001b[0;34m\u001b[0m\u001b[0m\n\u001b[1;32m     64\u001b[0m \u001b[0;34m\u001b[0m\u001b[0m\n",
      "\u001b[0;32m~/anaconda3/envs/ai4e/lib/python3.8/site-packages/torch/nn/modules/module.py\u001b[0m in \u001b[0;36m_call_impl\u001b[0;34m(self, *input, **kwargs)\u001b[0m\n\u001b[1;32m    887\u001b[0m             \u001b[0mresult\u001b[0m \u001b[0;34m=\u001b[0m \u001b[0mself\u001b[0m\u001b[0;34m.\u001b[0m\u001b[0m_slow_forward\u001b[0m\u001b[0;34m(\u001b[0m\u001b[0;34m*\u001b[0m\u001b[0minput\u001b[0m\u001b[0;34m,\u001b[0m \u001b[0;34m**\u001b[0m\u001b[0mkwargs\u001b[0m\u001b[0;34m)\u001b[0m\u001b[0;34m\u001b[0m\u001b[0;34m\u001b[0m\u001b[0m\n\u001b[1;32m    888\u001b[0m         \u001b[0;32melse\u001b[0m\u001b[0;34m:\u001b[0m\u001b[0;34m\u001b[0m\u001b[0;34m\u001b[0m\u001b[0m\n\u001b[0;32m--> 889\u001b[0;31m             \u001b[0mresult\u001b[0m \u001b[0;34m=\u001b[0m \u001b[0mself\u001b[0m\u001b[0;34m.\u001b[0m\u001b[0mforward\u001b[0m\u001b[0;34m(\u001b[0m\u001b[0;34m*\u001b[0m\u001b[0minput\u001b[0m\u001b[0;34m,\u001b[0m \u001b[0;34m**\u001b[0m\u001b[0mkwargs\u001b[0m\u001b[0;34m)\u001b[0m\u001b[0;34m\u001b[0m\u001b[0;34m\u001b[0m\u001b[0m\n\u001b[0m\u001b[1;32m    890\u001b[0m         for hook in itertools.chain(\n\u001b[1;32m    891\u001b[0m                 \u001b[0m_global_forward_hooks\u001b[0m\u001b[0;34m.\u001b[0m\u001b[0mvalues\u001b[0m\u001b[0;34m(\u001b[0m\u001b[0;34m)\u001b[0m\u001b[0;34m,\u001b[0m\u001b[0;34m\u001b[0m\u001b[0;34m\u001b[0m\u001b[0m\n",
      "\u001b[0;32m~/anaconda3/envs/ai4e/lib/python3.8/site-packages/torch/nn/modules/container.py\u001b[0m in \u001b[0;36mforward\u001b[0;34m(self, input)\u001b[0m\n\u001b[1;32m    117\u001b[0m     \u001b[0;32mdef\u001b[0m \u001b[0mforward\u001b[0m\u001b[0;34m(\u001b[0m\u001b[0mself\u001b[0m\u001b[0;34m,\u001b[0m \u001b[0minput\u001b[0m\u001b[0;34m)\u001b[0m\u001b[0;34m:\u001b[0m\u001b[0;34m\u001b[0m\u001b[0;34m\u001b[0m\u001b[0m\n\u001b[1;32m    118\u001b[0m         \u001b[0;32mfor\u001b[0m \u001b[0mmodule\u001b[0m \u001b[0;32min\u001b[0m \u001b[0mself\u001b[0m\u001b[0;34m:\u001b[0m\u001b[0;34m\u001b[0m\u001b[0;34m\u001b[0m\u001b[0m\n\u001b[0;32m--> 119\u001b[0;31m             \u001b[0minput\u001b[0m \u001b[0;34m=\u001b[0m \u001b[0mmodule\u001b[0m\u001b[0;34m(\u001b[0m\u001b[0minput\u001b[0m\u001b[0;34m)\u001b[0m\u001b[0;34m\u001b[0m\u001b[0;34m\u001b[0m\u001b[0m\n\u001b[0m\u001b[1;32m    120\u001b[0m         \u001b[0;32mreturn\u001b[0m \u001b[0minput\u001b[0m\u001b[0;34m\u001b[0m\u001b[0;34m\u001b[0m\u001b[0m\n\u001b[1;32m    121\u001b[0m \u001b[0;34m\u001b[0m\u001b[0m\n",
      "\u001b[0;32m~/anaconda3/envs/ai4e/lib/python3.8/site-packages/torch/nn/modules/module.py\u001b[0m in \u001b[0;36m_call_impl\u001b[0;34m(self, *input, **kwargs)\u001b[0m\n\u001b[1;32m    887\u001b[0m             \u001b[0mresult\u001b[0m \u001b[0;34m=\u001b[0m \u001b[0mself\u001b[0m\u001b[0;34m.\u001b[0m\u001b[0m_slow_forward\u001b[0m\u001b[0;34m(\u001b[0m\u001b[0;34m*\u001b[0m\u001b[0minput\u001b[0m\u001b[0;34m,\u001b[0m \u001b[0;34m**\u001b[0m\u001b[0mkwargs\u001b[0m\u001b[0;34m)\u001b[0m\u001b[0;34m\u001b[0m\u001b[0;34m\u001b[0m\u001b[0m\n\u001b[1;32m    888\u001b[0m         \u001b[0;32melse\u001b[0m\u001b[0;34m:\u001b[0m\u001b[0;34m\u001b[0m\u001b[0;34m\u001b[0m\u001b[0m\n\u001b[0;32m--> 889\u001b[0;31m             \u001b[0mresult\u001b[0m \u001b[0;34m=\u001b[0m \u001b[0mself\u001b[0m\u001b[0;34m.\u001b[0m\u001b[0mforward\u001b[0m\u001b[0;34m(\u001b[0m\u001b[0;34m*\u001b[0m\u001b[0minput\u001b[0m\u001b[0;34m,\u001b[0m \u001b[0;34m**\u001b[0m\u001b[0mkwargs\u001b[0m\u001b[0;34m)\u001b[0m\u001b[0;34m\u001b[0m\u001b[0;34m\u001b[0m\u001b[0m\n\u001b[0m\u001b[1;32m    890\u001b[0m         for hook in itertools.chain(\n\u001b[1;32m    891\u001b[0m                 \u001b[0m_global_forward_hooks\u001b[0m\u001b[0;34m.\u001b[0m\u001b[0mvalues\u001b[0m\u001b[0;34m(\u001b[0m\u001b[0;34m)\u001b[0m\u001b[0;34m,\u001b[0m\u001b[0;34m\u001b[0m\u001b[0;34m\u001b[0m\u001b[0m\n",
      "\u001b[0;32m~/anaconda3/envs/ai4e/lib/python3.8/site-packages/torchvision/models/resnet.py\u001b[0m in \u001b[0;36mforward\u001b[0;34m(self, x)\u001b[0m\n\u001b[1;32m     78\u001b[0m             \u001b[0midentity\u001b[0m \u001b[0;34m=\u001b[0m \u001b[0mself\u001b[0m\u001b[0;34m.\u001b[0m\u001b[0mdownsample\u001b[0m\u001b[0;34m(\u001b[0m\u001b[0mx\u001b[0m\u001b[0;34m)\u001b[0m\u001b[0;34m\u001b[0m\u001b[0;34m\u001b[0m\u001b[0m\n\u001b[1;32m     79\u001b[0m \u001b[0;34m\u001b[0m\u001b[0m\n\u001b[0;32m---> 80\u001b[0;31m         \u001b[0mout\u001b[0m \u001b[0;34m+=\u001b[0m \u001b[0midentity\u001b[0m\u001b[0;34m\u001b[0m\u001b[0;34m\u001b[0m\u001b[0m\n\u001b[0m\u001b[1;32m     81\u001b[0m         \u001b[0mout\u001b[0m \u001b[0;34m=\u001b[0m \u001b[0mself\u001b[0m\u001b[0;34m.\u001b[0m\u001b[0mrelu\u001b[0m\u001b[0;34m(\u001b[0m\u001b[0mout\u001b[0m\u001b[0;34m)\u001b[0m\u001b[0;34m\u001b[0m\u001b[0;34m\u001b[0m\u001b[0m\n\u001b[1;32m     82\u001b[0m \u001b[0;34m\u001b[0m\u001b[0m\n",
      "\u001b[0;31mKeyboardInterrupt\u001b[0m: "
     ]
    }
   ],
   "source": [
    "test_epoch_aug_Unet.run(aug_test_loader_pl)"
   ]
  },
  {
   "cell_type": "code",
   "execution_count": null,
   "id": "867a8852",
   "metadata": {},
   "outputs": [],
   "source": [
    "test_epoch_aug_Unet.run(test_loader_pl)"
   ]
  },
  {
   "cell_type": "markdown",
   "id": "1850f5ea",
   "metadata": {},
   "source": [
    "# Iterative"
   ]
  },
  {
   "cell_type": "code",
   "execution_count": 25,
   "id": "d96b4043",
   "metadata": {},
   "outputs": [],
   "source": [
    "def IoU(pred, targs):\n",
    "    pred = (pred>0).float()\n",
    "    intersection = (pred*targs).sum()\n",
    "    return intersection / ((pred+targs).sum() - intersection + 1.0)"
   ]
  },
  {
   "cell_type": "code",
   "execution_count": 48,
   "id": "416e0829",
   "metadata": {},
   "outputs": [],
   "source": [
    "aug_test_ds = ShipTestDataset('./data/test_set_rotation_aug/', transform=preprocessing_fn)\n",
    "aug_test_loader_pl = DataLoader(dataset=aug_test_ds, batch_size = 1, num_workers=8)\n",
    "\n",
    "test_ds = ShipTestDataset('./data/test_set/', transform=preprocessing_fn)\n",
    "test_loader_pl = DataLoader(dataset=test_ds, batch_size = 1, num_workers=8)"
   ]
  },
  {
   "cell_type": "code",
   "execution_count": 25,
   "id": "4020a0c4",
   "metadata": {},
   "outputs": [],
   "source": [
    "np_aug_model = torch.load('./aug_models_np/model_aug_9.pth')\n",
    "np_aug_model = np_aug_model.to(device)"
   ]
  },
  {
   "cell_type": "code",
   "execution_count": 51,
   "id": "c3aa5199",
   "metadata": {},
   "outputs": [],
   "source": [
    "device = torch.device(\"cuda:%d\" % 0)\n",
    "\n",
    "aug_model = torch.load('./aug_models/model_aug_9.pth')\n",
    "aug_model = torch.load('./best_model_aug.pth')\n",
    "aug_model = aug_model.to(device)\n",
    "\n",
    "non_aug_model = torch.load('./best_model_non_aug.pth')\n",
    "non_aug_model = non_aug_model.to(device)"
   ]
  },
  {
   "cell_type": "code",
   "execution_count": null,
   "id": "f8627c07",
   "metadata": {
    "scrolled": true
   },
   "outputs": [
    {
     "name": "stderr",
     "output_type": "stream",
     "text": [
      "0it [00:00, ?it/s]Exception ignored in: Exception ignored in: Exception ignored in: Exception ignored in: <function _MultiProcessingDataLoaderIter.__del__ at 0x7fb167122ee0><function _MultiProcessingDataLoaderIter.__del__ at 0x7fb167122ee0>Exception ignored in: <function _MultiProcessingDataLoaderIter.__del__ at 0x7fb167122ee0><function _MultiProcessingDataLoaderIter.__del__ at 0x7fb167122ee0>\n",
      "<function _MultiProcessingDataLoaderIter.__del__ at 0x7fb167122ee0>\n",
      "\n",
      "\n",
      "Traceback (most recent call last):\n",
      "Traceback (most recent call last):\n",
      "\n",
      "Traceback (most recent call last):\n",
      "Traceback (most recent call last):\n",
      "  File \"/home/jason/anaconda3/envs/ai4e/lib/python3.8/site-packages/torch/utils/data/dataloader.py\", line 1324, in __del__\n",
      "  File \"/home/jason/anaconda3/envs/ai4e/lib/python3.8/site-packages/torch/utils/data/dataloader.py\", line 1324, in __del__\n",
      "Exception ignored in: Traceback (most recent call last):\n",
      "  File \"/home/jason/anaconda3/envs/ai4e/lib/python3.8/site-packages/torch/utils/data/dataloader.py\", line 1324, in __del__\n",
      "  File \"/home/jason/anaconda3/envs/ai4e/lib/python3.8/site-packages/torch/utils/data/dataloader.py\", line 1324, in __del__\n",
      "    <function _MultiProcessingDataLoaderIter.__del__ at 0x7fb167122ee0>        \n",
      "    self._shutdown_workers()  File \"/home/jason/anaconda3/envs/ai4e/lib/python3.8/site-packages/torch/utils/data/dataloader.py\", line 1324, in __del__\n",
      "self._shutdown_workers()self._shutdown_workers()self._shutdown_workers()Traceback (most recent call last):\n",
      "\n",
      "\n",
      "\n",
      "  File \"/home/jason/anaconda3/envs/ai4e/lib/python3.8/site-packages/torch/utils/data/dataloader.py\", line 1324, in __del__\n",
      "\n",
      "    Exception ignored in:   File \"/home/jason/anaconda3/envs/ai4e/lib/python3.8/site-packages/torch/utils/data/dataloader.py\", line 1316, in _shutdown_workers\n",
      "  File \"/home/jason/anaconda3/envs/ai4e/lib/python3.8/site-packages/torch/utils/data/dataloader.py\", line 1316, in _shutdown_workers\n",
      "  File \"/home/jason/anaconda3/envs/ai4e/lib/python3.8/site-packages/torch/utils/data/dataloader.py\", line 1316, in _shutdown_workers\n",
      "  File \"/home/jason/anaconda3/envs/ai4e/lib/python3.8/site-packages/torch/utils/data/dataloader.py\", line 1316, in _shutdown_workers\n",
      "self._shutdown_workers()<function _MultiProcessingDataLoaderIter.__del__ at 0x7fb167122ee0>    \n",
      "    self._shutdown_workers()    \n",
      "    if w.is_alive():      File \"/home/jason/anaconda3/envs/ai4e/lib/python3.8/site-packages/torch/utils/data/dataloader.py\", line 1316, in _shutdown_workers\n",
      "if w.is_alive():if w.is_alive():\n",
      "if w.is_alive():Traceback (most recent call last):\n",
      "\n",
      "    \n",
      "\n",
      "  File \"/home/jason/anaconda3/envs/ai4e/lib/python3.8/multiprocessing/process.py\", line 160, in is_alive\n",
      "  File \"/home/jason/anaconda3/envs/ai4e/lib/python3.8/site-packages/torch/utils/data/dataloader.py\", line 1324, in __del__\n",
      "  File \"/home/jason/anaconda3/envs/ai4e/lib/python3.8/multiprocessing/process.py\", line 160, in is_alive\n",
      "if w.is_alive():  File \"/home/jason/anaconda3/envs/ai4e/lib/python3.8/multiprocessing/process.py\", line 160, in is_alive\n",
      "  File \"/home/jason/anaconda3/envs/ai4e/lib/python3.8/multiprocessing/process.py\", line 160, in is_alive\n",
      "        \n",
      "        \n",
      "assert self._parent_pid == os.getpid(), 'can only test a child process'    assert self._parent_pid == os.getpid(), 'can only test a child process'  File \"/home/jason/anaconda3/envs/ai4e/lib/python3.8/site-packages/torch/utils/data/dataloader.py\", line 1316, in _shutdown_workers\n",
      "\n",
      "assert self._parent_pid == os.getpid(), 'can only test a child process'self._shutdown_workers()\n",
      "AssertionError    \n",
      "Exception ignored in: \n",
      "  File \"/home/jason/anaconda3/envs/ai4e/lib/python3.8/multiprocessing/process.py\", line 160, in is_alive\n",
      "AssertionErrorAssertionError: if w.is_alive():<function _MultiProcessingDataLoaderIter.__del__ at 0x7fb167122ee0>:       File \"/home/jason/anaconda3/envs/ai4e/lib/python3.8/site-packages/torch/utils/data/dataloader.py\", line 1316, in _shutdown_workers\n",
      "can only test a child process\n",
      ": assert self._parent_pid == os.getpid(), 'can only test a child process'\n",
      "  File \"/home/jason/anaconda3/envs/ai4e/lib/python3.8/multiprocessing/process.py\", line 160, in is_alive\n",
      "can only test a child process\n",
      "can only test a child process\n",
      "    assert self._parent_pid == os.getpid(), 'can only test a child process'Traceback (most recent call last):\n",
      "\n",
      "\n",
      "AssertionError    \n",
      "assert self._parent_pid == os.getpid(), 'can only test a child process': if w.is_alive():  File \"/home/jason/anaconda3/envs/ai4e/lib/python3.8/site-packages/torch/utils/data/dataloader.py\", line 1324, in __del__\n",
      "can only test a child processAssertionError\n",
      "\n",
      "    \n",
      ":   File \"/home/jason/anaconda3/envs/ai4e/lib/python3.8/multiprocessing/process.py\", line 160, in is_alive\n",
      "AssertionErrorself._shutdown_workers()can only test a child process    : \n",
      "\n",
      "assert self._parent_pid == os.getpid(), 'can only test a child process'  File \"/home/jason/anaconda3/envs/ai4e/lib/python3.8/site-packages/torch/utils/data/dataloader.py\", line 1316, in _shutdown_workers\n",
      "can only test a child process    \n",
      "\n",
      "if w.is_alive():AssertionError\n",
      ":   File \"/home/jason/anaconda3/envs/ai4e/lib/python3.8/multiprocessing/process.py\", line 160, in is_alive\n",
      "can only test a child process    \n",
      "assert self._parent_pid == os.getpid(), 'can only test a child process'\n",
      "AssertionError: can only test a child process\n",
      "285707it [41:24, 68.02it/s] IOPub message rate exceeded.\n",
      "The notebook server will temporarily stop sending output\n",
      "to the client in order to avoid crashing it.\n",
      "To change this limit, set the config variable\n",
      "`--NotebookApp.iopub_msg_rate_limit`.\n",
      "\n",
      "Current values:\n",
      "NotebookApp.iopub_msg_rate_limit=1000.0 (msgs/sec)\n",
      "NotebookApp.rate_limit_window=3.0 (secs)\n",
      "\n",
      "347938it [55:37, 63.68it/s]"
     ]
    }
   ],
   "source": [
    "sum_iou = 0\n",
    "count = 0\n",
    "for i, (img, mask) in tqdm(enumerate(aug_test_loader_pl)):\n",
    "#     if i == 1500: break\n",
    "    \n",
    "    if mask.sum() != 0:\n",
    "        pred = aug_model(img.cuda())\n",
    "\n",
    "        pred = pred.detach().cpu().double()\n",
    "        \n",
    "        pred[pred >= 0.5] = 1\n",
    "        pred[pred < 0.5] =0\n",
    "        \n",
    "        sum_iou += (IoU(pred.squeeze(), mask.squeeze()))\n",
    "        count += 1\n",
    "\n",
    "#     if i != 0 and i % 500 == 0:\n",
    "#         print(sum_iou / count)\n",
    "\n",
    "#         visualize(\n",
    "#             image=img.squeeze().permute(1,2,0),\n",
    "#             mask=mask.squeeze(),\n",
    "#             pred = pred.squeeze()\n",
    "#         )"
   ]
  },
  {
   "cell_type": "code",
   "execution_count": 41,
   "id": "3fe170dc",
   "metadata": {},
   "outputs": [
    {
     "data": {
      "text/plain": [
       "tensor(0.2867)"
      ]
     },
     "execution_count": 41,
     "metadata": {},
     "output_type": "execute_result"
    }
   ],
   "source": [
    "sum_iou/count"
   ]
  },
  {
   "cell_type": "code",
   "execution_count": null,
   "id": "87d03992",
   "metadata": {},
   "outputs": [],
   "source": []
  }
 ],
 "metadata": {
  "kernelspec": {
   "display_name": "ai4e",
   "language": "python",
   "name": "ai4e"
  },
  "language_info": {
   "codemirror_mode": {
    "name": "ipython",
    "version": 3
   },
   "file_extension": ".py",
   "mimetype": "text/x-python",
   "name": "python",
   "nbconvert_exporter": "python",
   "pygments_lexer": "ipython3",
   "version": "3.8.8"
  }
 },
 "nbformat": 4,
 "nbformat_minor": 5
}
