{
 "cells": [
  {
   "cell_type": "code",
   "execution_count": 6,
   "id": "3df4717c",
   "metadata": {},
   "outputs": [],
   "source": [
    "import sys,os,time\n",
    "\n",
    "import numpy as np\n",
    "import pandas as pd\n",
    "import matplotlib.pyplot as plt\n",
    "\n",
    "import scipy.ndimage\n",
    "from skimage.io import imread, imsave\n",
    "from skimage.transform import rotate\n",
    "\n",
    "import torch\n",
    "import torch.nn as nn\n",
    "import torch.nn.functional as F\n",
    "from torch.utils.data import Dataset, DataLoader, IterableDataset\n",
    "\n",
    "from utils import LARGE_CHIP_SIZE, CHIP_SIZE,CROP_POINT, NUM_WORKERS,MixedLoss, joint_transform, mixed_loss, get_mask\n",
    "from tqdm import tqdm\n",
    "\n",
    "from dataloader import AirbusShipPatchDataset, AirbusShipDataset\n",
    "from streaming_dataloader import StreamingShipDataset, StreamingShipValTestDataset\n",
    "import joblib\n",
    "\n",
    "import rasterio\n",
    "import fiona\n",
    "import shapely.geometry\n",
    "import cv2\n",
    "import rasterio.features\n",
    "from PIL import Image\n",
    "import segmentation_models_pytorch as smp\n",
    "import glob"
   ]
  },
  {
   "cell_type": "code",
   "execution_count": 2,
   "id": "2de76d0e",
   "metadata": {},
   "outputs": [],
   "source": [
    "# helper function for data visualization\n",
    "def visualize(**images):\n",
    "    \"\"\"PLot images in one row.\"\"\"\n",
    "    n = len(images)\n",
    "    plt.figure(figsize=(16, 5))\n",
    "    for i, (name, image) in enumerate(images.items()):\n",
    "        plt.subplot(1, n, i + 1)\n",
    "        plt.xticks([])\n",
    "        plt.yticks([])\n",
    "        plt.title(' '.join(name.split('_')).title())\n",
    "        plt.imshow(image)\n",
    "    plt.show()"
   ]
  },
  {
   "cell_type": "code",
   "execution_count": 3,
   "id": "eb32e195",
   "metadata": {},
   "outputs": [],
   "source": [
    "ENCODER = 'resnet34'\n",
    "ENCODER_WEIGHTS = 'imagenet'\n",
    "\n",
    "preprocessing_fn = smp.encoders.get_preprocessing_fn(ENCODER, ENCODER_WEIGHTS)\n",
    "# preprocessing_fn = None\n",
    "\n",
    "#  Test Loader\n",
    "\n",
    "streaming_test_dataset = StreamingShipValTestDataset(\"./data/test_df.csv\", \"./data/train_v2/\", \n",
    "    large_chip_size=LARGE_CHIP_SIZE, chip_size=CHIP_SIZE, transform=joint_transform, preprocessing_fn=preprocessing_fn,\n",
    "    rotation_augmentation=False, only_ships=True)\n",
    "\n",
    "streaming_test_aug_dataset = StreamingShipValTestDataset(\"./data/test_df.csv\", \"./data/train_v2/\", \n",
    "    large_chip_size=LARGE_CHIP_SIZE, chip_size=CHIP_SIZE, transform=joint_transform, preprocessing_fn=preprocessing_fn,\n",
    "    rotation_augmentation=True, only_ships=True)\n",
    "\n",
    "test_loader = DataLoader(dataset=streaming_test_dataset, batch_size = 1, num_workers=4)\n",
    "\n",
    "test_aug_loader = DataLoader(dataset=streaming_test_aug_dataset, batch_size = 1, num_workers=4)"
   ]
  },
  {
   "cell_type": "code",
   "execution_count": 4,
   "id": "05fbd82f",
   "metadata": {},
   "outputs": [],
   "source": [
    "device = torch.device(\"cuda:%d\" % 0)\n",
    "aug_model = torch.load('./best_model_aug_new.pth')\n",
    "aug_model = aug_model.to(device)\n",
    "\n",
    "non_aug_model = torch.load('./best_model_non_aug.pth')\n",
    "non_aug_model = non_aug_model.to(device)"
   ]
  },
  {
   "cell_type": "code",
   "execution_count": 5,
   "id": "816ed339",
   "metadata": {
    "scrolled": true
   },
   "outputs": [],
   "source": [
    "aug_model.eval()\n",
    "non_aug_model.eval()\n",
    "loss = MixedLoss(10.0,2.0)\n",
    "loss.__name__ = \"MixedLoss\"\n",
    "\n",
    "metrics = [\n",
    "    smp.utils.metrics.IoU(threshold=0.5),\n",
    "]"
   ]
  },
  {
   "cell_type": "code",
   "execution_count": null,
   "id": "7ab5ced7",
   "metadata": {},
   "outputs": [],
   "source": []
  },
  {
   "cell_type": "code",
   "execution_count": null,
   "id": "8124e21f",
   "metadata": {},
   "outputs": [],
   "source": []
  },
  {
   "cell_type": "code",
   "execution_count": 163,
   "id": "6bfd427c",
   "metadata": {},
   "outputs": [
    {
     "data": {
      "text/plain": [
       "<function posix.listdir(path=None)>"
      ]
     },
     "execution_count": 163,
     "metadata": {},
     "output_type": "execute_result"
    }
   ],
   "source": [
    "os.listdir"
   ]
  },
  {
   "cell_type": "code",
   "execution_count": 167,
   "id": "fcbd2cd3",
   "metadata": {},
   "outputs": [],
   "source": [
    "all_img_fns = glob.glob('./data/test_set_rotation_aug/img/*')"
   ]
  },
  {
   "cell_type": "code",
   "execution_count": 169,
   "id": "0335f9ab",
   "metadata": {},
   "outputs": [],
   "source": [
    "all_mask_fns = glob.glob('./data/test_set_rotation_aug/mask/*')"
   ]
  },
  {
   "cell_type": "code",
   "execution_count": 170,
   "id": "bd4fb35b",
   "metadata": {},
   "outputs": [
    {
     "data": {
      "text/plain": [
       "True"
      ]
     },
     "execution_count": 170,
     "metadata": {},
     "output_type": "execute_result"
    }
   ],
   "source": [
    "len(all_img_fns) == len(all_mask_fns)"
   ]
  },
  {
   "cell_type": "code",
   "execution_count": 7,
   "id": "d4ded3a8",
   "metadata": {},
   "outputs": [],
   "source": [
    "class ShipTestDataset(Dataset):\n",
    "\n",
    "    def __init__(self, file_path, transform=None):\n",
    "        self.file_path = file_path\n",
    "        self.image_fns = glob.glob(self.file_path + \"img/*\")\n",
    "        self.transform = transform\n",
    "\n",
    "    def __len__(self):\n",
    "        return len(self.image_fns)\n",
    "\n",
    "    def __getitem__(self, idx):\n",
    "        \n",
    "        fn = self.image_fns[idx].split('/')[-1]\n",
    "        \n",
    "        mask_fn = os.path.join(self.file_path, \"mask\",fn.replace(\"jpg\", \"png\"))\n",
    "        \n",
    "        # Read image\n",
    "        img = imread(self.image_fns[idx])\n",
    "        mask = imread(mask_fn)\n",
    "        \n",
    "        if self.transform:\n",
    "            img = self.transform(img)\n",
    "        \n",
    "        return img, mask"
   ]
  },
  {
   "cell_type": "code",
   "execution_count": 8,
   "id": "85c95a58",
   "metadata": {},
   "outputs": [
    {
     "data": {
      "image/png": "[encoded data removed]",
      "text/plain": [
       "<Figure size 432x288 with 1 Axes>"
      ]
     },
     "metadata": {
      "needs_background": "light"
     },
     "output_type": "display_data"
    },
    {
     "name": "stderr",
     "output_type": "stream",
     "text": [
      "Clipping input data to the valid range for imshow with RGB data ([0..1] for floats or [0..255] for integers).\n"
     ]
    },
    {
     "data": {
      "image/png": "[encoded data removed]",
      "text/plain": [
       "<Figure size 432x288 with 1 Axes>"
      ]
     },
     "metadata": {
      "needs_background": "light"
     },
     "output_type": "display_data"
    }
   ],
   "source": [
    "test_ds = ShipTestDataset('./data/test_set_rotation_aug/', transform=preprocessing_fn)\n",
    "plt.figure()\n",
    "plt.imshow(test_ds[0][1])\n",
    "plt.show()\n",
    "plt.close()\n",
    "plt.figure()\n",
    "plt.imshow(test_ds[0][0])\n",
    "plt.show()\n",
    "plt.close()"
   ]
  },
  {
   "cell_type": "code",
   "execution_count": null,
   "id": "f8627c07",
   "metadata": {},
   "outputs": [],
   "source": []
  }
 ],
 "metadata": {
  "kernelspec": {
   "display_name": "ai4e",
   "language": "python",
   "name": "ai4e"
  },
  "language_info": {
   "codemirror_mode": {
    "name": "ipython",
    "version": 3
   },
   "file_extension": ".py",
   "mimetype": "text/x-python",
   "name": "python",
   "nbconvert_exporter": "python",
   "pygments_lexer": "ipython3",
   "version": "3.8.8"
  }
 },
 "nbformat": 4,
 "nbformat_minor": 5
}
