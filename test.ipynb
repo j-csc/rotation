{
 "cells": [
  {
   "cell_type": "code",
   "execution_count": 5,
   "metadata": {},
   "outputs": [],
   "source": [
    "import sys\n",
    "import os\n",
    "import time\n",
    "import datetime\n",
    "import argparse\n",
    "import copy\n",
    "\n",
    "import numpy as np\n",
    "import pandas as pd\n",
    "\n",
    "from dataloader import StreamingGeospatialDataset\n",
    "\n",
    "import torch\n",
    "torch.backends.cudnn.deterministic = False\n",
    "torch.backends.cudnn.benchmark = True\n",
    "import torch.nn as nn\n",
    "import torch.nn.functional as F\n",
    "import torch.optim as optim\n",
    "import albumentations as albu"
   ]
  },
  {
   "cell_type": "code",
   "execution_count": 6,
   "metadata": {},
   "outputs": [],
   "source": [
    "PATH = './'\n",
    "TRAIN = 'train_v2/'\n",
    "TEST = 'test_v2/'\n",
    "SEGMENTATION = 'train_ship_segmentations_v2.csv'\n",
    "exclude_list = ['6384c3e78.jpg','13703f040.jpg', '14715c06d.jpg',  '33e0ff2d5.jpg',\n",
    "              '4d4e09f2a.jpg', '877691df8.jpg', '8b909bb20.jpg', 'a8d99130e.jpg', \n",
    "              'ad55c3143.jpg', 'c8260c541.jpg', 'd6c7f17c7.jpg', 'dc3e7c901.jpg',\n",
    "              'e44dffe88.jpg', 'ef87bad36.jpg', 'f083256d8.jpg'] \n",
    "\n",
    "tr_arr = np.array(pd.read_csv('train_df.csv')['0'].reset_index(drop=True))\n",
    "val_arr = np.array(pd.read_csv('val_df.csv')['0'].reset_index(drop=True))\n",
    "test_arr = np.array(pd.read_csv('test_df.csv')['0'].reset_index(drop=True))\n",
    "\n",
    "for el in exclude_list:\n",
    "    if(el in tr_arr): tr_arr.remove(el)\n",
    "    if(el in val_arr): val_arr.remove(el)\n",
    "    if(el in test_arr): test_arr.remove(el)\n",
    "\n",
    "segmentation_df = pd.read_csv(os.path.join(PATH, SEGMENTATION)).set_index('ImageId')\n",
    "\n",
    "tr_n = tr_arr\n",
    "val_n = val_arr\n",
    "test_n = test_arr\n",
    "\n",
    "\n",
    "# IF CUT_EMPTY\n",
    "def cut_empty(names):\n",
    "    return [name for name in names \n",
    "            if(type(segmentation_df.loc[name]['EncodedPixels']) != float)]\n",
    "\n",
    "tr_n = cut_empty(tr_n)\n",
    "val_n = cut_empty(val_n)\n",
    "test_n = cut_empty(test_n)"
   ]
  },
  {
   "cell_type": "code",
   "execution_count": 8,
   "metadata": {},
   "outputs": [
    {
     "data": {
      "text/plain": [
       "34376"
      ]
     },
     "execution_count": 8,
     "metadata": {},
     "output_type": "execute_result"
    }
   ],
   "source": [
    "len(tr_n)"
   ]
  },
  {
   "cell_type": "code",
   "execution_count": null,
   "metadata": {},
   "outputs": [],
   "source": []
  }
 ],
 "metadata": {
  "kernelspec": {
   "display_name": "ai4e",
   "language": "python",
   "name": "ai4e"
  },
  "language_info": {
   "codemirror_mode": {
    "name": "ipython",
    "version": 3
   },
   "file_extension": ".py",
   "mimetype": "text/x-python",
   "name": "python",
   "nbconvert_exporter": "python",
   "pygments_lexer": "ipython3",
   "version": "3.8.8"
  }
 },
 "nbformat": 4,
 "nbformat_minor": 4
}
