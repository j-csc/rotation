{
 "cells": [
  {
   "cell_type": "code",
   "execution_count": 1,
   "id": "02f9933c",
   "metadata": {},
   "outputs": [],
   "source": [
    "import pandas as pd\n",
    "import matplotlib.pyplot as plt\n",
    "import numpy as np\n",
    "\n",
    "import torch\n",
    "import torch.nn as nn\n",
    "from torchvision.models.resnet import ResNet\n",
    "from torchvision.models.resnet import BasicBlock\n",
    "from torchvision.models.resnet import Bottleneck\n",
    "from torchvision import models\n",
    "import segmentation_models_pytorch as smp\n",
    "\n",
    "from segmentation_models_pytorch.encoders._base import EncoderMixin\n",
    "import segmentation_models_pytorch.encoders as smp_enc\n",
    "\n",
    "from torchvision.models.resnet import ResNet\n",
    "from copy import deepcopy\n",
    "\n",
    "import torchvision as tv\n",
    "\n",
    "from layers_2D import RotConv, Vector2Magnitude, VectorBatchNorm, VectorMaxPool, VectorUpsampling"
   ]
  },
  {
   "cell_type": "code",
   "execution_count": 2,
   "id": "20a0b607",
   "metadata": {},
   "outputs": [],
   "source": [
    "# Define network\n",
    "class Net(nn.Module):\n",
    "    def __init__(self):\n",
    "        super(Net, self).__init__()\n",
    "\n",
    "        self.main = nn.Sequential(\n",
    "            \n",
    "            # RotConv 9x9, 6 filters -> 2x2 SP: 14\n",
    "            RotConv(1, 6, [9, 9], 1, 9 // 2, n_angles=17, mode=1),\n",
    "            VectorMaxPool(2),\n",
    "            VectorBatchNorm(6),\n",
    "\n",
    "            RotConv(6, 16, [9, 9], 1, 9 // 2, n_angles=17, mode=2),\n",
    "            VectorMaxPool(2),\n",
    "            VectorBatchNorm(16),\n",
    "\n",
    "            RotConv(16, 32, [9, 9], 1, 1, n_angles=17, mode=2),\n",
    "            Vector2Magnitude(),\n",
    "\n",
    "            nn.Conv2d(32, 128, 1),  # FC1\n",
    "            nn.BatchNorm2d(128),\n",
    "            nn.ReLU(),\n",
    "            nn.Dropout2d(0.7),\n",
    "            nn.Conv2d(128, 10, 1),  # FC2\n",
    "\n",
    "        )\n",
    "\n",
    "    def forward(self, x):\n",
    "        x = self.main(x)\n",
    "        x = x.view(x.size()[0], x.size()[1])\n",
    "\n",
    "        return x"
   ]
  },
  {
   "cell_type": "markdown",
   "id": "61ff519f",
   "metadata": {},
   "source": [
    "## MNIST"
   ]
  },
  {
   "cell_type": "code",
   "execution_count": 4,
   "id": "f37082b4",
   "metadata": {},
   "outputs": [],
   "source": [
    "x = torch.randn(8,1,28,28)"
   ]
  },
  {
   "cell_type": "markdown",
   "id": "c3b9d233",
   "metadata": {},
   "source": [
    "### Layer 1"
   ]
  },
  {
   "cell_type": "code",
   "execution_count": 5,
   "id": "c89ec74c",
   "metadata": {},
   "outputs": [
    {
     "name": "stdout",
     "output_type": "stream",
     "text": [
      "torch.Size([8, 6, 28, 28])\n",
      "torch.Size([8, 6, 14, 14])\n",
      "torch.Size([8, 6, 14, 14])\n"
     ]
    }
   ],
   "source": [
    "x = RotConv(1, 6, [9, 9], 1, 9 // 2, n_angles=17, mode=1)(x)\n",
    "print(x[0].shape)\n",
    "x = VectorMaxPool(2)(x)\n",
    "print(x[0].shape)\n",
    "x = VectorBatchNorm(6)(x)\n",
    "print(x[0].shape)"
   ]
  },
  {
   "cell_type": "markdown",
   "id": "fd415d91",
   "metadata": {},
   "source": [
    "### Layer 2"
   ]
  },
  {
   "cell_type": "code",
   "execution_count": 6,
   "id": "82547522",
   "metadata": {},
   "outputs": [
    {
     "name": "stdout",
     "output_type": "stream",
     "text": [
      "torch.Size([8, 16, 14, 14])\n",
      "torch.Size([8, 16, 7, 7])\n",
      "torch.Size([8, 16, 7, 7])\n"
     ]
    }
   ],
   "source": [
    "x = RotConv(6, 16, [9, 9], 1, 9 // 2, n_angles=17, mode=2)(x)\n",
    "print(x[0].shape)\n",
    "x = VectorMaxPool(2)(x)\n",
    "print(x[0].shape)\n",
    "x = VectorBatchNorm(16)(x)\n",
    "print(x[0].shape)"
   ]
  },
  {
   "cell_type": "markdown",
   "id": "85ce4c6c",
   "metadata": {},
   "source": [
    "### Layer 3"
   ]
  },
  {
   "cell_type": "code",
   "execution_count": 7,
   "id": "1c57cbeb",
   "metadata": {},
   "outputs": [
    {
     "name": "stdout",
     "output_type": "stream",
     "text": [
      "torch.Size([8, 32, 1, 1])\n"
     ]
    }
   ],
   "source": [
    "x = RotConv(16, 32, [9, 9], 1, 1, n_angles=17, mode=2)(x)\n",
    "print(x[0].shape)"
   ]
  },
  {
   "cell_type": "code",
   "execution_count": 8,
   "id": "e3c211f0",
   "metadata": {},
   "outputs": [
    {
     "name": "stdout",
     "output_type": "stream",
     "text": [
      "torch.Size([8, 32, 1, 1])\n"
     ]
    }
   ],
   "source": [
    "x = Vector2Magnitude()(x)\n",
    "print(x.shape)"
   ]
  },
  {
   "cell_type": "markdown",
   "id": "77edbb44",
   "metadata": {},
   "source": [
    "### Layer 4"
   ]
  },
  {
   "cell_type": "code",
   "execution_count": 9,
   "id": "e6f6a69f",
   "metadata": {},
   "outputs": [
    {
     "name": "stdout",
     "output_type": "stream",
     "text": [
      "torch.Size([8, 128, 1, 1])\n",
      "torch.Size([8, 128, 1, 1])\n",
      "torch.Size([8, 128, 1, 1])\n"
     ]
    }
   ],
   "source": [
    "x = nn.Conv2d(32, 128, 1)(x)  # FC1\n",
    "print(x.shape)\n",
    "x = nn.BatchNorm2d(128)(x)\n",
    "print(x.shape)\n",
    "x = nn.ReLU()(x)\n",
    "print(x.shape)"
   ]
  },
  {
   "cell_type": "code",
   "execution_count": 10,
   "id": "cd57ed67",
   "metadata": {},
   "outputs": [
    {
     "name": "stdout",
     "output_type": "stream",
     "text": [
      "torch.Size([8, 128, 1, 1])\n",
      "torch.Size([8, 10, 1, 1])\n"
     ]
    }
   ],
   "source": [
    "x = nn.Dropout2d(0.7)(x)\n",
    "print(x.shape)\n",
    "x = nn.Conv2d(128, 10, 1)(x)  # FC2\n",
    "print(x.shape)"
   ]
  },
  {
   "cell_type": "code",
   "execution_count": 11,
   "id": "bc8b219d",
   "metadata": {},
   "outputs": [
    {
     "data": {
      "text/plain": [
       "torch.Size([8, 10])"
      ]
     },
     "execution_count": 11,
     "metadata": {},
     "output_type": "execute_result"
    }
   ],
   "source": [
    "x.view(x.size()[0], x.size()[1]).shape"
   ]
  },
  {
   "cell_type": "markdown",
   "id": "639b127c",
   "metadata": {},
   "source": [
    "## Segmentation example"
   ]
  },
  {
   "cell_type": "markdown",
   "id": "b923f9ee",
   "metadata": {},
   "source": [
    "def __init__(self, in_channels, out_channels, kernel_size, stride=1,\n",
    "                 padding=0, dilation=1, n_angles = 8, mode=1):"
   ]
  },
  {
   "cell_type": "markdown",
   "id": "9d452cc6",
   "metadata": {},
   "source": [
    "### Layer 1"
   ]
  },
  {
   "cell_type": "code",
   "execution_count": 3,
   "id": "8b61708f",
   "metadata": {},
   "outputs": [
    {
     "name": "stdout",
     "output_type": "stream",
     "text": [
      "torch.Size([8, 6, 256, 256])\n",
      "torch.Size([8, 6, 128, 128])\n",
      "torch.Size([8, 6, 128, 128])\n"
     ]
    }
   ],
   "source": [
    "N = 6\n",
    "x = torch.randn(8,3,256,256)\n",
    "x = RotConv(3, N, [9, 9], 1, 9//2, n_angles=6, mode=1)(x)\n",
    "print(x[0].shape)\n",
    "x = VectorMaxPool(2)(x)\n",
    "print(x[0].shape)\n",
    "x = VectorBatchNorm(N)(x)\n",
    "print(x[0].shape)"
   ]
  },
  {
   "cell_type": "code",
   "execution_count": 4,
   "id": "ad248ece",
   "metadata": {},
   "outputs": [
    {
     "name": "stdout",
     "output_type": "stream",
     "text": [
      "torch.Size([8, 12, 128, 128])\n",
      "torch.Size([8, 12, 64, 64])\n",
      "torch.Size([8, 12, 64, 64])\n"
     ]
    }
   ],
   "source": [
    "x = RotConv(N, 2*N, [9, 9], 1, 9 // 2, n_angles=6, mode=2)(x)\n",
    "print(x[0].shape)\n",
    "x = VectorMaxPool(2)(x)\n",
    "print(x[0].shape)\n",
    "x = VectorBatchNorm(2*N)(x)\n",
    "print(x[0].shape)"
   ]
  },
  {
   "cell_type": "code",
   "execution_count": 5,
   "id": "7b5a18ab",
   "metadata": {},
   "outputs": [
    {
     "name": "stdout",
     "output_type": "stream",
     "text": [
      "torch.Size([8, 18, 64, 64])\n",
      "torch.Size([8, 18, 32, 32])\n",
      "torch.Size([8, 18, 32, 32])\n"
     ]
    }
   ],
   "source": [
    "x = RotConv(2*N, 3*N, [9, 9], 1, 9 // 2, n_angles=6, mode=2)(x)\n",
    "print(x[0].shape)\n",
    "x = VectorMaxPool(2)(x)\n",
    "print(x[0].shape)\n",
    "x = VectorBatchNorm(3*N)(x)\n",
    "print(x[0].shape)"
   ]
  },
  {
   "cell_type": "code",
   "execution_count": 6,
   "id": "11ed71b2",
   "metadata": {},
   "outputs": [
    {
     "name": "stdout",
     "output_type": "stream",
     "text": [
      "torch.Size([8, 24, 32, 32])\n"
     ]
    }
   ],
   "source": [
    "x = RotConv(3*N, 4*N, [9, 9], 1, 9 // 2, n_angles=6, mode=2)(x)\n",
    "print(x[0].shape)"
   ]
  },
  {
   "cell_type": "code",
   "execution_count": 7,
   "id": "f5c11e8b",
   "metadata": {},
   "outputs": [
    {
     "name": "stdout",
     "output_type": "stream",
     "text": [
      "torch.Size([8, 24, 256, 256])\n",
      "torch.Size([8, 24, 256, 256])\n"
     ]
    },
    {
     "name": "stderr",
     "output_type": "stream",
     "text": [
      "/home/jason/anaconda3/envs/ai4e/lib/python3.8/site-packages/torch/nn/functional.py:3328: UserWarning: nn.functional.upsample is deprecated. Use nn.functional.interpolate instead.\n",
      "  warnings.warn(\"nn.functional.upsample is deprecated. Use nn.functional.interpolate instead.\")\n",
      "/home/jason/anaconda3/envs/ai4e/lib/python3.8/site-packages/torch/nn/functional.py:3454: UserWarning: Default upsampling behavior when mode=bilinear is changed to align_corners=False since 0.4.0. Please specify align_corners=True if the old behavior is desired. See the documentation of nn.Upsample for details.\n",
      "  warnings.warn(\n"
     ]
    }
   ],
   "source": [
    "x = VectorUpsampling(size=256)(x)\n",
    "print(x[0].shape)\n",
    "x = Vector2Magnitude()(x)\n",
    "print(x.shape)"
   ]
  },
  {
   "cell_type": "code",
   "execution_count": 22,
   "id": "be8a00b7",
   "metadata": {},
   "outputs": [
    {
     "data": {
      "text/plain": [
       "torch.Size([8, 24, 256, 256])"
      ]
     },
     "execution_count": 22,
     "metadata": {},
     "output_type": "execute_result"
    }
   ],
   "source": [
    "x.shape"
   ]
  },
  {
   "cell_type": "code",
   "execution_count": null,
   "id": "95fa3c08",
   "metadata": {},
   "outputs": [],
   "source": []
  }
 ],
 "metadata": {
  "kernelspec": {
   "display_name": "ai4e",
   "language": "python",
   "name": "ai4e"
  },
  "language_info": {
   "codemirror_mode": {
    "name": "ipython",
    "version": 3
   },
   "file_extension": ".py",
   "mimetype": "text/x-python",
   "name": "python",
   "nbconvert_exporter": "python",
   "pygments_lexer": "ipython3",
   "version": "3.8.8"
  }
 },
 "nbformat": 4,
 "nbformat_minor": 5
}
