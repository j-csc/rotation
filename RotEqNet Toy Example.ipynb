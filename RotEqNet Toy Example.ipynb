{
 "cells": [
  {
   "cell_type": "code",
   "execution_count": 2,
   "id": "02f9933c",
   "metadata": {},
   "outputs": [],
   "source": [
    "import pandas as pd\n",
    "import matplotlib.pyplot as plt\n",
    "import numpy as np\n",
    "\n",
    "import torch\n",
    "import torch.nn as nn\n",
    "from torchvision.models.resnet import ResNet\n",
    "from torchvision.models.resnet import BasicBlock\n",
    "from torchvision.models.resnet import Bottleneck\n",
    "from torchvision import models\n",
    "import segmentation_models_pytorch as smp\n",
    "\n",
    "from segmentation_models_pytorch.encoders._base import EncoderMixin\n",
    "import segmentation_models_pytorch.encoders as smp_enc\n",
    "\n",
    "from torchvision.models.resnet import ResNet\n",
    "from copy import deepcopy\n",
    "\n",
    "import torchvision as tv\n",
    "\n",
    "from layers_2D import RotConv, Vector2Magnitude, VectorBatchNorm, VectorMaxPool, VectorUpsampling"
   ]
  },
  {
   "cell_type": "markdown",
   "id": "61ff519f",
   "metadata": {},
   "source": [
    "## MNIST"
   ]
  },
  {
   "cell_type": "code",
   "execution_count": 4,
   "id": "f37082b4",
   "metadata": {},
   "outputs": [],
   "source": [
    "x = torch.randn(8,1,28,28)"
   ]
  },
  {
   "cell_type": "markdown",
   "id": "c3b9d233",
   "metadata": {},
   "source": [
    "### Layer 1"
   ]
  },
  {
   "cell_type": "code",
   "execution_count": 5,
   "id": "c89ec74c",
   "metadata": {},
   "outputs": [
    {
     "name": "stdout",
     "output_type": "stream",
     "text": [
      "torch.Size([8, 6, 28, 28])\n",
      "torch.Size([8, 6, 14, 14])\n",
      "torch.Size([8, 6, 14, 14])\n"
     ]
    }
   ],
   "source": [
    "x = RotConv(1, 6, [9, 9], 1, 9 // 2, n_angles=17, mode=1)(x)\n",
    "print(x[0].shape)\n",
    "x = VectorMaxPool(2)(x)\n",
    "print(x[0].shape)\n",
    "x = VectorBatchNorm(6)(x)\n",
    "print(x[0].shape)"
   ]
  },
  {
   "cell_type": "markdown",
   "id": "fd415d91",
   "metadata": {},
   "source": [
    "### Layer 2"
   ]
  },
  {
   "cell_type": "code",
   "execution_count": 6,
   "id": "82547522",
   "metadata": {},
   "outputs": [
    {
     "name": "stdout",
     "output_type": "stream",
     "text": [
      "torch.Size([8, 16, 14, 14])\n",
      "torch.Size([8, 16, 7, 7])\n",
      "torch.Size([8, 16, 7, 7])\n"
     ]
    }
   ],
   "source": [
    "x = RotConv(6, 16, [9, 9], 1, 9 // 2, n_angles=17, mode=2)(x)\n",
    "print(x[0].shape)\n",
    "x = VectorMaxPool(2)(x)\n",
    "print(x[0].shape)\n",
    "x = VectorBatchNorm(16)(x)\n",
    "print(x[0].shape)"
   ]
  },
  {
   "cell_type": "markdown",
   "id": "85ce4c6c",
   "metadata": {},
   "source": [
    "### Layer 3"
   ]
  },
  {
   "cell_type": "code",
   "execution_count": 7,
   "id": "1c57cbeb",
   "metadata": {},
   "outputs": [
    {
     "name": "stdout",
     "output_type": "stream",
     "text": [
      "torch.Size([8, 32, 1, 1])\n"
     ]
    }
   ],
   "source": [
    "x = RotConv(16, 32, [9, 9], 1, 1, n_angles=17, mode=2)(x)\n",
    "print(x[0].shape)"
   ]
  },
  {
   "cell_type": "code",
   "execution_count": 8,
   "id": "e3c211f0",
   "metadata": {},
   "outputs": [
    {
     "name": "stdout",
     "output_type": "stream",
     "text": [
      "torch.Size([8, 32, 1, 1])\n"
     ]
    }
   ],
   "source": [
    "x = Vector2Magnitude()(x)\n",
    "print(x.shape)"
   ]
  },
  {
   "cell_type": "markdown",
   "id": "77edbb44",
   "metadata": {},
   "source": [
    "### Layer 4"
   ]
  },
  {
   "cell_type": "code",
   "execution_count": 9,
   "id": "e6f6a69f",
   "metadata": {},
   "outputs": [
    {
     "name": "stdout",
     "output_type": "stream",
     "text": [
      "torch.Size([8, 128, 1, 1])\n",
      "torch.Size([8, 128, 1, 1])\n",
      "torch.Size([8, 128, 1, 1])\n"
     ]
    }
   ],
   "source": [
    "x = nn.Conv2d(32, 128, 1)(x)  # FC1\n",
    "print(x.shape)\n",
    "x = nn.BatchNorm2d(128)(x)\n",
    "print(x.shape)\n",
    "x = nn.ReLU()(x)\n",
    "print(x.shape)"
   ]
  },
  {
   "cell_type": "code",
   "execution_count": 10,
   "id": "cd57ed67",
   "metadata": {},
   "outputs": [
    {
     "name": "stdout",
     "output_type": "stream",
     "text": [
      "torch.Size([8, 128, 1, 1])\n",
      "torch.Size([8, 10, 1, 1])\n"
     ]
    }
   ],
   "source": [
    "x = nn.Dropout2d(0.7)(x)\n",
    "print(x.shape)\n",
    "x = nn.Conv2d(128, 10, 1)(x)  # FC2\n",
    "print(x.shape)"
   ]
  },
  {
   "cell_type": "code",
   "execution_count": 11,
   "id": "bc8b219d",
   "metadata": {},
   "outputs": [
    {
     "data": {
      "text/plain": [
       "torch.Size([8, 10])"
      ]
     },
     "execution_count": 11,
     "metadata": {},
     "output_type": "execute_result"
    }
   ],
   "source": [
    "x.view(x.size()[0], x.size()[1]).shape"
   ]
  },
  {
   "cell_type": "markdown",
   "id": "639b127c",
   "metadata": {},
   "source": [
    "## Segmentation example"
   ]
  },
  {
   "cell_type": "markdown",
   "id": "b923f9ee",
   "metadata": {},
   "source": [
    "def __init__(self, in_channels, out_channels, kernel_size, stride=1,\n",
    "                 padding=0, dilation=1, n_angles = 8, mode=1):"
   ]
  },
  {
   "cell_type": "markdown",
   "id": "9d452cc6",
   "metadata": {},
   "source": [
    "### Layers"
   ]
  },
  {
   "cell_type": "code",
   "execution_count": 12,
   "id": "8b61708f",
   "metadata": {
    "scrolled": true
   },
   "outputs": [
    {
     "name": "stdout",
     "output_type": "stream",
     "text": [
      "torch.Size([8, 64, 256, 256])\n",
      "torch.Size([8, 64, 128, 128])\n",
      "torch.Size([8, 64, 128, 128])\n",
      "torch.Size([8, 128, 128, 128])\n",
      "torch.Size([8, 128, 64, 64])\n",
      "torch.Size([8, 128, 64, 64])\n",
      "torch.Size([8, 256, 64, 64])\n",
      "torch.Size([8, 256, 32, 32])\n",
      "torch.Size([8, 256, 32, 32])\n",
      "torch.Size([8, 512, 32, 32])\n",
      "torch.Size([8, 512, 16, 16])\n",
      "torch.Size([8, 512, 16, 16])\n",
      "torch.Size([8, 512, 256, 256])\n",
      "torch.Size([8, 512, 256, 256])\n"
     ]
    }
   ],
   "source": [
    "x = torch.randn(8,3,256,256)\n",
    "\n",
    "# Layer 1\n",
    "x = RotConv(3, 64, [3, 3], 1, 1, n_angles=6, mode=1)(x)\n",
    "print(x[0].shape)\n",
    "x = VectorMaxPool(2)(x)\n",
    "print(x[0].shape)\n",
    "x = VectorBatchNorm(64)(x)\n",
    "print(x[0].shape)\n",
    "\n",
    "# Layer 2\n",
    "x = RotConv(64, 128, [3, 3], 1, 1, n_angles=6, mode=2)(x)\n",
    "print(x[0].shape)\n",
    "x = VectorMaxPool(2)(x)\n",
    "print(x[0].shape)\n",
    "x = VectorBatchNorm(128)(x)\n",
    "print(x[0].shape)\n",
    "\n",
    "# Layer 3\n",
    "x = RotConv(128, 256, [3, 3], 1, 1, n_angles=6, mode=2)(x)\n",
    "print(x[0].shape)\n",
    "x = VectorMaxPool(2)(x)\n",
    "print(x[0].shape)\n",
    "x = VectorBatchNorm(256)(x)\n",
    "print(x[0].shape)\n",
    "\n",
    "# Layer 4\n",
    "x = RotConv(256, 512, [3, 3], 1, 1, n_angles=6, mode=2)(x)\n",
    "print(x[0].shape)\n",
    "x = VectorMaxPool(2)(x)\n",
    "print(x[0].shape)\n",
    "x = VectorBatchNorm(512)(x)\n",
    "print(x[0].shape)\n",
    "\n",
    "# UpSampling Layer\n",
    "x = VectorUpsampling(size=256)(x)\n",
    "print(x[0].shape)\n",
    "x = Vector2Magnitude()(x)\n",
    "print(x.shape)"
   ]
  },
  {
   "cell_type": "code",
   "execution_count": 13,
   "id": "372ec346",
   "metadata": {},
   "outputs": [
    {
     "name": "stdout",
     "output_type": "stream",
     "text": [
      "torch.Size([8, 4096, 256, 256])\n",
      "torch.Size([8, 4096, 256, 256])\n",
      "torch.Size([8, 4096, 256, 256])\n"
     ]
    }
   ],
   "source": [
    "x = nn.Conv2d(512, 4096, 1)(x)  # FC1\n",
    "print(x.shape)\n",
    "x = nn.BatchNorm2d(4096)(x)\n",
    "print(x.shape)\n",
    "x = nn.ReLU()(x)\n",
    "print(x.shape)"
   ]
  },
  {
   "cell_type": "code",
   "execution_count": 14,
   "id": "83fce86b",
   "metadata": {},
   "outputs": [
    {
     "name": "stdout",
     "output_type": "stream",
     "text": [
      "torch.Size([8, 4096, 256, 256])\n",
      "torch.Size([8, 1, 256, 256])\n"
     ]
    }
   ],
   "source": [
    "x = nn.Dropout2d(0.7)(x)\n",
    "print(x.shape)\n",
    "x = nn.Conv2d(4096, 1, 1)(x)  # FC2\n",
    "print(x.shape)"
   ]
  },
  {
   "cell_type": "code",
   "execution_count": 16,
   "id": "4438170a",
   "metadata": {},
   "outputs": [],
   "source": [
    "temp = (x[0][0])\n",
    "temp = temp.detach().cpu()"
   ]
  },
  {
   "cell_type": "code",
   "execution_count": 18,
   "id": "f3e58490",
   "metadata": {},
   "outputs": [
    {
     "data": {
      "text/plain": [
       "<matplotlib.image.AxesImage at 0x7f4da1c86e50>"
      ]
     },
     "execution_count": 18,
     "metadata": {},
     "output_type": "execute_result"
    },
    {
     "data": {
      "image/png": "[encoded data removed]",
      "text/plain": [
       "<Figure size 432x288 with 1 Axes>"
      ]
     },
     "metadata": {
      "needs_background": "light"
     },
     "output_type": "display_data"
    }
   ],
   "source": [
    "plt.imshow(temp)"
   ]
  },
  {
   "cell_type": "code",
   "execution_count": 19,
   "id": "5944f245",
   "metadata": {},
   "outputs": [
    {
     "data": {
      "text/plain": [
       "torch.Size([256, 256])"
      ]
     },
     "execution_count": 19,
     "metadata": {},
     "output_type": "execute_result"
    }
   ],
   "source": [
    "temp.shape"
   ]
  },
  {
   "cell_type": "markdown",
   "id": "a88ce668",
   "metadata": {},
   "source": [
    "# Toy RotEq"
   ]
  },
  {
   "cell_type": "code",
   "execution_count": 20,
   "id": "c4b93c28",
   "metadata": {},
   "outputs": [
    {
     "ename": "SyntaxError",
     "evalue": "invalid syntax (<ipython-input-20-5ceea3d115ee>, line 10)",
     "output_type": "error",
     "traceback": [
      "\u001b[0;36m  File \u001b[0;32m\"<ipython-input-20-5ceea3d115ee>\"\u001b[0;36m, line \u001b[0;32m10\u001b[0m\n\u001b[0;31m    x = VectorMaxPool(2)(x)\u001b[0m\n\u001b[0m    ^\u001b[0m\n\u001b[0;31mSyntaxError\u001b[0m\u001b[0;31m:\u001b[0m invalid syntax\n"
     ]
    }
   ],
   "source": [
    "# Define network\n",
    "class Net(nn.Module):\n",
    "    def __init__(self):\n",
    "        super(Net, self).__init__()\n",
    "\n",
    "        self.main = nn.Sequential(\n",
    "            \n",
    "            # Layer 1\n",
    "            x = RotConv(3, 64, [3, 3], 1, 1, n_angles=6, mode=1)(x)\n",
    "            x = VectorMaxPool(2)(x)\n",
    "            x = VectorBatchNorm(64)(x)\n",
    "\n",
    "            # Layer 2\n",
    "            x = RotConv(64, 128, [3, 3], 1, 1, n_angles=6, mode=2)(x)\n",
    "            x = VectorMaxPool(2)(x)\n",
    "            x = VectorBatchNorm(128)(x)\n",
    "\n",
    "            # Layer 3\n",
    "            x = RotConv(128, 256, [3, 3], 1, 1, n_angles=6, mode=2)(x)\n",
    "            x = VectorMaxPool(2)(x)\n",
    "            x = VectorBatchNorm(256)(x)\n",
    "\n",
    "            # Layer 4\n",
    "            x = RotConv(256, 512, [3, 3], 1, 1, n_angles=6, mode=2)(x)\n",
    "            x = VectorMaxPool(2)(x)\n",
    "            x = VectorBatchNorm(512)(x)\n",
    "\n",
    "            # UpSampling Layer\n",
    "            x = VectorUpsampling(size=256)(x)\n",
    "            x = Vector2Magnitude()(x)\n",
    "            \n",
    "            # FC1\n",
    "            x = nn.Conv2d(512, 4096, 1)(x)  \n",
    "            x = nn.BatchNorm2d(4096)(x)\n",
    "            x = nn.ReLU()(x)\n",
    "            \n",
    "            # FC2\n",
    "            x = nn.Dropout2d(0.7)(x)\n",
    "            x = nn.Conv2d(4096, 1, 1)(x)\n",
    "        )\n",
    "\n",
    "    def forward(self, x):\n",
    "        x = self.main(x)\n",
    "        return x"
   ]
  },
  {
   "cell_type": "code",
   "execution_count": null,
   "id": "df82af4f",
   "metadata": {},
   "outputs": [],
   "source": []
  }
 ],
 "metadata": {
  "kernelspec": {
   "display_name": "ai4e",
   "language": "python",
   "name": "ai4e"
  },
  "language_info": {
   "codemirror_mode": {
    "name": "ipython",
    "version": 3
   },
   "file_extension": ".py",
   "mimetype": "text/x-python",
   "name": "python",
   "nbconvert_exporter": "python",
   "pygments_lexer": "ipython3",
   "version": "3.8.8"
  }
 },
 "nbformat": 4,
 "nbformat_minor": 5
}
