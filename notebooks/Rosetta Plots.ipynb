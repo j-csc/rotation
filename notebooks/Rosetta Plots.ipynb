{
 "cells": [
  {
   "cell_type": "code",
   "execution_count": 22,
   "id": "ec3965f0",
   "metadata": {},
   "outputs": [],
   "source": [
    "%matplotlib inline\n",
    "import sys,os,time\n",
    "\n",
    "import numpy as np\n",
    "import pandas as pd\n",
    "import matplotlib.pyplot as plt\n",
    "\n",
    "import scipy.ndimage\n",
    "from skimage.io import imread, imsave\n",
    "from skimage.transform import rotate\n",
    "\n",
    "import torch\n",
    "from torch.utils.data import Dataset, DataLoader\n",
    "\n",
    "from utils import LARGE_CHIP_SIZE, CHIP_SIZE, joint_transform\n",
    "from tqdm import tqdm\n",
    "\n",
    "from dataloader import AirbusShipPatchDataset, AirbusShipDataset\n",
    "from streaming_dataloader import StreamingShipDataset\n",
    "import joblib\n",
    "\n",
    "import rasterio\n",
    "import fiona\n",
    "import shapely.geometry\n",
    "import cv2\n",
    "import rasterio.features\n"
   ]
  },
  {
   "cell_type": "code",
   "execution_count": 15,
   "id": "58a582c3",
   "metadata": {},
   "outputs": [],
   "source": [
    "train_p_dataset = AirbusShipPatchDataset(\"./data/train_df.csv\", \"./data\", \n",
    "                                         large_chip_size=LARGE_CHIP_SIZE, chip_size=CHIP_SIZE, transform=joint_transform,\n",
    "                                         rotation_augmentation=True, give_mask_id=True)"
   ]
  },
  {
   "cell_type": "code",
   "execution_count": null,
   "id": "2e03b4ef",
   "metadata": {},
   "outputs": [],
   "source": [
    "train_p_na_dataset = AirbusShipPatchDataset(\"./data/train_df.csv\", \"./data\", \n",
    "                                         large_chip_size=LARGE_CHIP_SIZE, chip_size=CHIP_SIZE, transform=joint_transform,\n",
    "                                         rotation_augmentation=False, give_mask_id=True)"
   ]
  },
  {
   "cell_type": "code",
   "execution_count": 24,
   "id": "a5aeb96b",
   "metadata": {},
   "outputs": [],
   "source": [
    "ship_areas_by_fn = joblib.load(\"./data/ship_areas_by_fn.p\")"
   ]
  },
  {
   "cell_type": "code",
   "execution_count": 25,
   "id": "928d575a",
   "metadata": {},
   "outputs": [
    {
     "data": {
      "text/plain": [
       "{1: 96, 2: 400, 3: 6079}"
      ]
     },
     "execution_count": 25,
     "metadata": {},
     "output_type": "execute_result"
    }
   ],
   "source": [
    "ship_areas_by_fn['b19c65c9f.jpg']"
   ]
  },
  {
   "cell_type": "markdown",
   "id": "0ab1a776",
   "metadata": {},
   "source": [
    "## Testing"
   ]
  },
  {
   "cell_type": "code",
   "execution_count": 23,
   "id": "27a354bc",
   "metadata": {},
   "outputs": [],
   "source": [
    "streaming_dataset = StreamingShipDataset(\"./data/train_df.csv\", \"./data\", \n",
    "                                         large_chip_size=LARGE_CHIP_SIZE, chip_size=CHIP_SIZE, transform=joint_transform,\n",
    "                                         rotation_augmentation=True, give_mask_id=True, only_ships=True, test=True)\n",
    "\n",
    "loader = DataLoader(dataset=streaming_dataset, batch_size = 1)"
   ]
  },
  {
   "cell_type": "markdown",
   "id": "f4c35eab",
   "metadata": {},
   "source": [
    "# Get rosetta plots"
   ]
  },
  {
   "cell_type": "code",
   "execution_count": 27,
   "id": "105a93c3",
   "metadata": {
    "scrolled": true
   },
   "outputs": [
    {
     "name": "stderr",
     "output_type": "stream",
     "text": [
      "275008it [1:00:05, 76.28it/s]"
     ]
    },
    {
     "name": "stdout",
     "output_type": "stream",
     "text": [
      "Augmented Dataset - 275007:\n",
      "256x256 Patches with ships: 65729\n",
      "Successfullly filtered ships: 56769\n"
     ]
    },
    {
     "name": "stderr",
     "output_type": "stream",
     "text": [
      "\n"
     ]
    }
   ],
   "source": [
    "np.random.seed(42)\n",
    "\n",
    "# stats\n",
    "count_masks_with_ships = 0\n",
    "count_ships_ge70 = 0\n",
    "count_patches_with_ships = 0\n",
    "\n",
    "xs = []\n",
    "\n",
    "for i, (orig, fn, img, mask) in tqdm(enumerate(loader)):\n",
    "            \n",
    "    # Check if image has ships\n",
    "    if mask.sum() > 0:\n",
    "        num_ships = len(np.unique(mask)) - 1\n",
    "        \n",
    "        assert all(x==fn[0] for x in fn)\n",
    "        \n",
    "        fn_name = fn[0].split('/')[-1]\n",
    "        \n",
    "        curr_ship_area = ship_areas_by_fn[fn_name]\n",
    "        \n",
    "        count_masks_with_ships += 1\n",
    "        \n",
    "        assert mask.shape == (1,256,256)\n",
    "        \n",
    "        temp_patch = np.array(mask[0])\n",
    "        ships_present = (np.unique(temp_patch))\n",
    "\n",
    "        # Check if current mask contains > 70% individual ship\n",
    "        for sp_id in ships_present:\n",
    "            if sp_id != 0:\n",
    "                curr_area = (temp_patch == sp_id).sum()\n",
    "\n",
    "                # Fill as no_ship if < 70% of ship is not in patch\n",
    "                if (((curr_area / curr_ship_area[sp_id]) < 0.7) and curr_area < 300):\n",
    "                    temp_patch = (np.where(temp_patch==sp_id, 0, temp_patch))\n",
    "\n",
    "        ships_present = (np.unique(temp_patch))\n",
    "\n",
    "        # After successful filtration, more than 1 ship remains\n",
    "        if(len(ships_present) > 1):\n",
    "            \n",
    "            count_ships_ge70 += 1\n",
    "\n",
    "            # Start counting\n",
    "#             temp_patch[temp_patch > 0] = 1\n",
    "\n",
    "            temp_patch = temp_patch.astype(np.uint8)   \n",
    "            \n",
    "            assert temp_patch.shape == (256,256)\n",
    "\n",
    "            shapes = rasterio.features.shapes(temp_patch)\n",
    "#             polygons = [shapely.geometry.Polygon(s[0][\"coordinates\"][0]) for s in shapes if s[1] != 0]\n",
    "\n",
    "            polygons = []\n",
    "    \n",
    "            # Filter out tiny artifacts\n",
    "            for s in shapes:\n",
    "                polygon_id = (int(s[1]))\n",
    "                if polygon_id != 0:\n",
    "                    polygon_area = (shapely.geometry.Polygon(s[0]['coordinates'][0]).area)\n",
    "                    if ((polygon_area / curr_ship_area[polygon_id] > 0.7) and polygon_area > 300):\n",
    "                        polygons.append(shapely.geometry.Polygon(s[0]['coordinates'][0]))\n",
    "            \n",
    "            if len(polygons) != 0:\n",
    "                for poly in polygons:\n",
    "                    rect = poly.minimum_rotated_rectangle\n",
    "\n",
    "                    points = list(rect.exterior.coords)\n",
    "                    max_dist = 0\n",
    "                    max_idx = None\n",
    "\n",
    "                    temp_xs = []\n",
    "                    dist_arr = []\n",
    "                    \n",
    "                    for i in range(4):\n",
    "                        dist = distance(points[i], points[i+1])\n",
    "                        dist_arr.append(dist)\n",
    "                        if dist >= max_dist:\n",
    "                            max_dist = dist\n",
    "                            max_idx = i\n",
    "                    \n",
    "                    w,l = (min(dist_arr), max(dist_arr))\n",
    "                    aspect_ratio = l/w\n",
    "                    \n",
    "                    if (aspect_ratio) > 1.2:\n",
    "                    \n",
    "                        for i in range(4):\n",
    "                            dist = distance(points[i], points[i+1])\n",
    "                            if dist == max_dist:\n",
    "                                point1 = points[i]\n",
    "                                point2 = points[i+1]\n",
    "\n",
    "                                rad = get_angle(point1, point2)\n",
    "                                xs.append(rad)\n",
    "                                temp_xs.append(rad)\n",
    "\n",
    "                            # Plot image for testing\n",
    "\n",
    "#                                 if rad == 0:\n",
    "#                                     print(rect.area)\n",
    "#                                     plt.figure()\n",
    "#                                     plt.imshow(np.moveaxis(np.array(img[0]), 0, -1))\n",
    "#                                     plt.show()\n",
    "#                                     plt.close()\n",
    "\n",
    "#                                     plt.figure()\n",
    "#                                     plt.imshow(temp_patch)\n",
    "#                                     plt.show()\n",
    "#                                     plt.close()\n",
    "                    else:\n",
    "                        pass\n",
    "\n",
    "#                         print(aspect_ratio)\n",
    "#                         plt.figure()\n",
    "#                         plt.imshow(np.moveaxis(np.array(img[0]), 0, -1))\n",
    "#                         plt.show()\n",
    "#                         plt.close()\n",
    "\n",
    "#                         plt.figure()\n",
    "#                         plt.imshow(temp_patch)\n",
    "#                         plt.show()\n",
    "#                         plt.close()\n",
    "            else:\n",
    "                pass\n",
    "                    \n",
    "                                            \n",
    "\n",
    "print(\"Augmented Dataset - {}:\\n256x256 Patches with ships: {}\\nSuccessfullly filtered ships: {}\".format(i, count_masks_with_ships, count_ships_ge70))\n"
   ]
  },
  {
   "cell_type": "code",
   "execution_count": null,
   "id": "d93e809a",
   "metadata": {},
   "outputs": [],
   "source": [
    "np.unique(xs, return_counts=True)"
   ]
  },
  {
   "cell_type": "code",
   "execution_count": 28,
   "id": "61bccd9c",
   "metadata": {},
   "outputs": [
    {
     "name": "stderr",
     "output_type": "stream",
     "text": [
      "<ipython-input-28-6371185c6be5>:18: UserWarning: First parameter to grid() is false, but line properties are supplied. The grid will be enabled.\n",
      "  ax.grid(b=False, which='minor', axis='x', color='#000', linestyle='-', linewidth=1)\n"
     ]
    },
    {
     "data": {
      "image/png": "[encoded data removed]",
      "text/plain": [
       "<Figure size 576x576 with 1 Axes>"
      ]
     },
     "metadata": {
      "needs_background": "light"
     },
     "output_type": "display_data"
    }
   ],
   "source": [
    "offset=360-36\n",
    "offset_r = 350\n",
    "fig, ax = plt.subplots(1,1,figsize=(8,8), subplot_kw=dict(projection='polar'))\n",
    "\n",
    "hist, bin_edges, patches = circular_hist(ax, np.array(xs), density=False, bins=60, gaps=True)\n",
    "#plt.plot([(180+offset)*np.pi/180,offset*np.pi/180], [offset_r,offset_r], color=\"#ccc\", linewidth=0.5, zorder=1)\n",
    "\n",
    "ax.set_rlabel_position(offset)\n",
    "\n",
    "plt.yticks([100,200,300], fontsize=14, backgroundcolor=\"#cccc\")\n",
    "plt.tick_params(axis=\"y\", zorder=3)\n",
    "plt.xticks([0,np.pi/2,np.pi, 3*np.pi/2], fontsize=15)\n",
    "\n",
    "#ax.grid(False)\n",
    "\n",
    "\n",
    "ax.grid(b=True, which='major', axis='x', color='#000', linestyle='-', linewidth=1)\n",
    "ax.grid(b=False, which='minor', axis='x', color='#000', linestyle='-', linewidth=1)\n",
    "ax.grid(b=True, which='major', axis='y', color='#ccc', linestyle='-', linewidth=0.6, zorder=0)\n",
    "ax.grid(b=False, which='minor', axis='y')\n",
    "\n",
    "ax.spines['polar'].set_visible(False)\n",
    "\n",
    "plt.show()\n",
    "plt.close()"
   ]
  },
  {
   "cell_type": "code",
   "execution_count": null,
   "id": "57f12828",
   "metadata": {},
   "outputs": [],
   "source": []
  },
  {
   "cell_type": "code",
   "execution_count": null,
   "id": "4fea9c22",
   "metadata": {},
   "outputs": [],
   "source": []
  },
  {
   "cell_type": "code",
   "execution_count": null,
   "id": "e99dcc9d",
   "metadata": {},
   "outputs": [],
   "source": []
  },
  {
   "cell_type": "code",
   "execution_count": null,
   "id": "157cd70c",
   "metadata": {},
   "outputs": [],
   "source": []
  },
  {
   "cell_type": "code",
   "execution_count": null,
   "id": "d75f9138",
   "metadata": {},
   "outputs": [],
   "source": []
  },
  {
   "cell_type": "code",
   "execution_count": null,
   "id": "6c47deb2",
   "metadata": {},
   "outputs": [],
   "source": []
  },
  {
   "cell_type": "code",
   "execution_count": null,
   "id": "56db97d3",
   "metadata": {},
   "outputs": [],
   "source": []
  },
  {
   "cell_type": "code",
   "execution_count": null,
   "id": "5f22a3f3",
   "metadata": {},
   "outputs": [],
   "source": []
  },
  {
   "cell_type": "code",
   "execution_count": null,
   "id": "250675f8",
   "metadata": {},
   "outputs": [],
   "source": []
  },
  {
   "cell_type": "markdown",
   "id": "0b28586a",
   "metadata": {},
   "source": [
    "### Too slow with normal dataset"
   ]
  },
  {
   "cell_type": "code",
   "execution_count": null,
   "id": "f421e8c5",
   "metadata": {
    "scrolled": true
   },
   "outputs": [
    {
     "name": "stderr",
     "output_type": "stream",
     "text": [
      "7436it [11:06, 10.93it/s]IOPub message rate exceeded.\n",
      "The notebook server will temporarily stop sending output\n",
      "to the client in order to avoid crashing it.\n",
      "To change this limit, set the config variable\n",
      "`--NotebookApp.iopub_msg_rate_limit`.\n",
      "\n",
      "Current values:\n",
      "NotebookApp.iopub_msg_rate_limit=1000.0 (msgs/sec)\n",
      "NotebookApp.rate_limit_window=3.0 (secs)\n",
      "\n",
      "48558it [1:12:37, 11.47it/s]"
     ]
    }
   ],
   "source": [
    "np.random.seed(42)\n",
    "\n",
    "# stats\n",
    "count_masks_with_ships = 0\n",
    "count_ships_ge70 = 0\n",
    "count_patches_with_ships = 0\n",
    "\n",
    "xs = []\n",
    "\n",
    "# Loop\n",
    "for i, (image, mask, mask_id, fn, res, res_masks) in tqdm(enumerate((train_p_dataset))):\n",
    "    \n",
    "#     if i == 10: break\n",
    "    \n",
    "    # Check if image has ships\n",
    "    if mask.sum() > 0:\n",
    "        num_ships = len(np.unique(mask_id)) - 1\n",
    "        \n",
    "        curr_ship_area = ship_areas_by_fn[fn]\n",
    "        \n",
    "        count_masks_with_ships += 1\n",
    "        \n",
    "        # Iterate over individual 256x256 patches\n",
    "        idx = 0\n",
    "        for idx in range(len(res_masks)):\n",
    "            temp_patch = np.array(res_masks[idx])\n",
    "            \n",
    "            # If there are ships in the patch\n",
    "            if (temp_patch.sum()) > 0:\n",
    "                ships_present = (np.unique(temp_patch))\n",
    "                \n",
    "                count_patches_with_ships += 1\n",
    "                \n",
    "                # Check if current mask contains > 70% individual ship\n",
    "                for sp_id in ships_present:\n",
    "                    if sp_id != 0:\n",
    "                        curr_area = (temp_patch == sp_id).sum()\n",
    "                        \n",
    "                        # Fill as no_ship if < 70% of ship is not in patch\n",
    "                        if ((curr_area / curr_ship_area[sp_id]) < 0.7):\n",
    "                            temp_patch = (np.where(temp_patch==sp_id, 0, temp_patch))\n",
    "                            \n",
    "\n",
    "                ships_present = (np.unique(temp_patch))\n",
    "                if(len(ships_present) > 1):\n",
    "                    count_ships_ge70 += 1\n",
    "\n",
    "                    # Start counting\n",
    "                    temp_patch = temp_patch.astype(np.uint8)                        \n",
    "                    shapes = rasterio.features.shapes(temp_patch)\n",
    "                    polygons = [shapely.geometry.Polygon(s[0][\"coordinates\"][0]) for s in shapes if s[1] != 0]\n",
    "                    \n",
    "                    for poly in polygons:\n",
    "                        sole_polygon = polygons[0]\n",
    "                        rect = sole_polygon.minimum_rotated_rectangle\n",
    "                        points = list(rect.exterior.coords)\n",
    "                        max_dist = 0\n",
    "                        max_idx = None\n",
    "\n",
    "                        dist_arr = []\n",
    "                        for i in range(4):\n",
    "                            dist = distance(points[i], points[i+1])\n",
    "                            dist_arr.append(dist)\n",
    "                            if dist >= max_dist:\n",
    "                                max_dist = dist\n",
    "                                max_idx = i\n",
    "\n",
    "\n",
    "                        for i in range(4):\n",
    "                            dist = distance(points[i], points[i+1])\n",
    "                            if dist == max_dist:\n",
    "                                point1 = points[i]\n",
    "                                point2 = points[i+1]\n",
    "                                xs.append(get_angle(point1, point2))\n",
    "        \n",
    "                \n",
    "\n",
    "print(count_masks_with_ships, count_ships_ge70, count_patches_with_ships)\n",
    "        "
   ]
  },
  {
   "cell_type": "code",
   "execution_count": null,
   "id": "8722222d",
   "metadata": {},
   "outputs": [],
   "source": []
  },
  {
   "cell_type": "code",
   "execution_count": null,
   "id": "0537e78b",
   "metadata": {},
   "outputs": [],
   "source": []
  },
  {
   "cell_type": "code",
   "execution_count": null,
   "id": "3390e418",
   "metadata": {},
   "outputs": [],
   "source": []
  },
  {
   "cell_type": "code",
   "execution_count": null,
   "id": "68b71fae",
   "metadata": {},
   "outputs": [],
   "source": [
    "polygons = [shapely.geometry.Polygon(s[0][\"coordinates\"][0]) for s in rasterio.features.shapes(temp_patch) if s[1] != 0]"
   ]
  },
  {
   "cell_type": "code",
   "execution_count": null,
   "id": "8bf3a7bf",
   "metadata": {},
   "outputs": [],
   "source": [
    "plt.imshow(temp_patch)"
   ]
  },
  {
   "cell_type": "code",
   "execution_count": 249,
   "id": "be0671b2",
   "metadata": {},
   "outputs": [
    {
     "name": "stdout",
     "output_type": "stream",
     "text": [
      "0.0\n",
      "0.0\n",
      "0.0\n",
      "0.0\n",
      "0.0\n",
      "0.0\n",
      "0.0\n",
      "0.0\n",
      "0.0\n",
      "0.0\n",
      "3.0\n",
      "0.0\n"
     ]
    }
   ],
   "source": [
    "shapes = rasterio.features.shapes(temp_patch.astype(np.uint8))\n",
    "g = None\n",
    "for s in shapes:\n",
    "    if s[1] != 0:\n",
    "        g = s\n",
    "    print(s[1])"
   ]
  },
  {
   "cell_type": "code",
   "execution_count": 250,
   "id": "f2acf8db",
   "metadata": {},
   "outputs": [],
   "source": [
    "sole_polygon = polygons[0]\n",
    "rect = sole_polygon.minimum_rotated_rectangle\n",
    "points = list(rect.exterior.coords)\n",
    "max_dist = 0\n",
    "max_idx = None\n",
    "radians = []\n",
    "\n",
    "dist_arr = []\n",
    "for i in range(4):\n",
    "    dist = distance(points[i], points[i+1])\n",
    "    dist_arr.append(dist)\n",
    "    if dist >= max_dist:\n",
    "        max_dist = dist\n",
    "        max_idx = i\n",
    "\n",
    "\n",
    "for i in range(4):\n",
    "    dist = distance(points[i], points[i+1])\n",
    "    if dist == max_dist:\n",
    "        point1 = points[i]\n",
    "        point2 = points[i+1]\n",
    "        radians.append(get_angle(point1, point2))\n",
    "\n",
    "radians = sorted(radians)"
   ]
  },
  {
   "cell_type": "code",
   "execution_count": 251,
   "id": "4a3b9238",
   "metadata": {},
   "outputs": [
    {
     "data": {
      "text/plain": [
       "[2.0152155366959956]"
      ]
     },
     "execution_count": 251,
     "metadata": {},
     "output_type": "execute_result"
    }
   ],
   "source": [
    "radians"
   ]
  },
  {
   "cell_type": "code",
   "execution_count": 252,
   "id": "e9ae6e68",
   "metadata": {},
   "outputs": [
    {
     "data": {
      "text/plain": [
       "[(-16.26432532347505, 191.74491682070237),\n",
       " (150.4547134935305, 112.35489833641404),\n",
       " (168.23659889094267, 149.69685767097965),\n",
       " (1.5175600739371475, 229.086876155268),\n",
       " (-16.26432532347505, 191.74491682070237)]"
      ]
     },
     "execution_count": 252,
     "metadata": {},
     "output_type": "execute_result"
    }
   ],
   "source": [
    "points"
   ]
  },
  {
   "cell_type": "code",
   "execution_count": null,
   "id": "306fcbd4",
   "metadata": {},
   "outputs": [],
   "source": [
    "                    \n",
    "#                     plt.figure()\n",
    "#                     plt.imshow(np.moveaxis(np.array(res[idx]), 0, -1))\n",
    "#                     plt.show()\n",
    "#                     plt.close()\n",
    "\n",
    "#                     plt.figure()\n",
    "#                     plt.imshow(temp_patch)\n",
    "#                     plt.show()\n",
    "#                     plt.close()"
   ]
  },
  {
   "cell_type": "code",
   "execution_count": 253,
   "id": "2e618778",
   "metadata": {},
   "outputs": [
    {
     "data": {
      "image/svg+xml": [
       "<svg xmlns=\"http://www.w3.org/2000/svg\" xmlns:xlink=\"http://www.w3.org/1999/xlink\" width=\"199.26099815157116\" height=\"131.49205175600736\" viewBox=\"-23.64436229205176 104.97486136783733 199.26099815157116 131.49205175600736\" preserveAspectRatio=\"xMinYMin meet\"><g transform=\"matrix(1,0,0,-1,0,341.44177449168205)\"><path fill-rule=\"evenodd\" fill=\"#66cc99\" stroke=\"#555555\" stroke-width=\"2.0\" opacity=\"0.6\" d=\"M -16.26432532347505,191.74491682070237 L 150.4547134935305,112.35489833641404 L 168.23659889094267,149.69685767097965 L 1.5175600739371475,229.086876155268 L -16.26432532347505,191.74491682070237 z\" /></g></svg>"
      ],
      "text/plain": [
       "<shapely.geometry.polygon.Polygon at 0x7f82ce5946a0>"
      ]
     },
     "execution_count": 253,
     "metadata": {},
     "output_type": "execute_result"
    }
   ],
   "source": [
    "rect"
   ]
  },
  {
   "cell_type": "code",
   "execution_count": 254,
   "id": "4dd26315",
   "metadata": {},
   "outputs": [
    {
     "data": {
      "image/png": "[encoded data removed]",
      "text/plain": [
       "<Figure size 432x288 with 1 Axes>"
      ]
     },
     "metadata": {
      "needs_background": "light"
     },
     "output_type": "display_data"
    }
   ],
   "source": [
    "plt.imshow(patch)\n",
    "shapes = rasterio.features.shapes(np.array(patch).astype('int16'))\n",
    "polygons = [shapely.geometry.Polygon(s[0][\"coordinates\"][0]) for s in shapes if s[1] != 0]"
   ]
  },
  {
   "cell_type": "markdown",
   "id": "da9f616a",
   "metadata": {},
   "source": [
    "# Helper code - run ffirst"
   ]
  },
  {
   "cell_type": "code",
   "execution_count": 6,
   "id": "efb1c744",
   "metadata": {},
   "outputs": [],
   "source": [
    "def azimuth(point1, point2):\n",
    "    '''azimuth between 2 shapely points (interval 0 - 360)'''\n",
    "    \n",
    "    angle = np.arctan2(point2[0] - point1[0], point2[1] - point1[1])\n",
    "    return np.degrees(angle) if angle >= 0 else np.degrees(angle) + 360\n",
    "\n",
    "def get_angle(point1, point2):\n",
    "    degrees = azimuth(point1, point2)\n",
    "    return degrees * np.pi / 180\n",
    "\n",
    "def distance(point1, point2):\n",
    "    return np.sqrt((point1[0] - point2[0])**2 + (point1[1] - point2[1])**2)\n",
    "\n",
    "def circular_hist(ax, x, bins=16, density=True, offset=0, gaps=True):\n",
    "    \"\"\"\n",
    "    Produce a circular histogram of angles on ax.\n",
    "\n",
    "    Parameters\n",
    "    ----------\n",
    "    ax : matplotlib.axes._subplots.PolarAxesSubplot\n",
    "        axis instance created with subplot_kw=dict(projection='polar').\n",
    "\n",
    "    x : array\n",
    "        Angles to plot, expected in units of radians.\n",
    "\n",
    "    bins : int, optional\n",
    "        Defines the number of equal-width bins in the range. The default is 16.\n",
    "\n",
    "    density : bool, optional\n",
    "        If True plot frequency proportional to area. If False plot frequency\n",
    "        proportional to radius. The default is True.\n",
    "\n",
    "    offset : float, optional\n",
    "        Sets the offset for the location of the 0 direction in units of\n",
    "        radians. The default is 0.\n",
    "\n",
    "    gaps : bool, optional\n",
    "        Whether to allow gaps between bins. When gaps = False the bins are\n",
    "        forced to partition the entire [-pi, pi] range. The default is True.\n",
    "\n",
    "    Returns\n",
    "    -------\n",
    "    n : array or list of arrays\n",
    "        The number of values in each bin.\n",
    "\n",
    "    bins : array\n",
    "        The edges of the bins.\n",
    "\n",
    "    patches : `.BarContainer` or list of a single `.Polygon`\n",
    "        Container of individual artists used to create the histogram\n",
    "        or list of such containers if there are multiple input datasets.\n",
    "    \"\"\"\n",
    "    # Wrap angles to [-pi, pi)\n",
    "    x = (x+np.pi) % (2*np.pi) - np.pi\n",
    "\n",
    "    # Force bins to partition entire circle\n",
    "    if not gaps:\n",
    "        bins = np.linspace(-np.pi, np.pi, num=bins+1)\n",
    "\n",
    "    # Bin data and record counts\n",
    "    n, bins = np.histogram(x, bins=bins)\n",
    "\n",
    "    # Compute width of each bin\n",
    "    widths = np.diff(bins)\n",
    "\n",
    "    # By default plot frequency proportional to area\n",
    "    if density:\n",
    "        # Area to assign each bin\n",
    "        area = n / x.size\n",
    "        # Calculate corresponding bin radius\n",
    "        radius = (area/np.pi) ** .5\n",
    "    # Otherwise plot frequency proportional to radius\n",
    "    else:\n",
    "        radius = n\n",
    "\n",
    "    # Plot data on ax\n",
    "    patches = ax.bar(bins[:-1], radius, zorder=1, align='edge', width=widths)\n",
    "\n",
    "    # Set the direction of the zero angle\n",
    "    ax.set_theta_offset(offset)\n",
    "\n",
    "    # Remove ylabels for area plots (they are mostly obstructive)\n",
    "    if density:\n",
    "        ax.set_yticks([])\n",
    "\n",
    "    return n, bins, patches"
   ]
  },
  {
   "cell_type": "code",
   "execution_count": null,
   "id": "6201488b",
   "metadata": {},
   "outputs": [],
   "source": []
  }
 ],
 "metadata": {
  "kernelspec": {
   "display_name": "ai4e",
   "language": "python",
   "name": "ai4e"
  },
  "language_info": {
   "codemirror_mode": {
    "name": "ipython",
    "version": 3
   },
   "file_extension": ".py",
   "mimetype": "text/x-python",
   "name": "python",
   "nbconvert_exporter": "python",
   "pygments_lexer": "ipython3",
   "version": "3.8.8"
  }
 },
 "nbformat": 4,
 "nbformat_minor": 5
}
